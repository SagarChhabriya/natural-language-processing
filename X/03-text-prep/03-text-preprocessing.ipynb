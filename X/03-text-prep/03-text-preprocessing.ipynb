{
 "cells": [
  {
   "cell_type": "code",
   "execution_count": 1,
   "metadata": {},
   "outputs": [
    {
     "data": {
      "text/plain": [
       "{'page': 471,\n",
       " 'results': [{'adult': False,\n",
       "   'backdrop_path': '/ridcUDnFumpMB5AAsIvFafTSx5i.jpg',\n",
       "   'genre_ids': [53, 9648, 18],\n",
       "   'id': 452832,\n",
       "   'original_language': 'en',\n",
       "   'original_title': 'Serenity',\n",
       "   'overview': 'The quiet life of Baker Dill, a fishing boat captain who lives on the isolated Plymouth Island, where he spends his days obsessed with capturing an elusive tuna while fighting his personal demons, is interrupted when someone from his past comes to him searching for help.',\n",
       "   'popularity': 2.6027,\n",
       "   'poster_path': '/hgWAcic93phg4DOuQ8NrsgQWiqu.jpg',\n",
       "   'release_date': '2019-01-24',\n",
       "   'title': 'Serenity',\n",
       "   'video': False,\n",
       "   'vote_average': 5.438,\n",
       "   'vote_count': 1543},\n",
       "  {'adult': False,\n",
       "   'backdrop_path': '/cc7Nmid20lcfNh1eucWdLKidi7s.jpg',\n",
       "   'genre_ids': [53, 80, 18],\n",
       "   'id': 850018,\n",
       "   'original_language': 'en',\n",
       "   'original_title': 'Windfall',\n",
       "   'overview': \"A man breaks into a tech billionaire's empty vacation home, but things go sideways when the arrogant mogul and his wife arrive for a last-minute getaway.\",\n",
       "   'popularity': 0.9325,\n",
       "   'poster_path': '/njBc0nNdl9QbsfMwyRqJkmW4NQO.jpg',\n",
       "   'release_date': '2022-03-11',\n",
       "   'title': 'Windfall',\n",
       "   'video': False,\n",
       "   'vote_average': 5.4,\n",
       "   'vote_count': 427},\n",
       "  {'adult': False,\n",
       "   'backdrop_path': '/ftVld1YSBU92swRb1mRryUs7xR2.jpg',\n",
       "   'genre_ids': [35],\n",
       "   'id': 516043,\n",
       "   'original_language': 'it',\n",
       "   'original_title': 'Arrivano i prof',\n",
       "   'overview': \"The Manzoni High School in Milan is the worst in Italy. When the percentage of those promoted falls to 12%, it's time for the last resort: to entrust the classes to the worst of the available teachers.\",\n",
       "   'popularity': 0.2624,\n",
       "   'poster_path': '/mBc8UOa5VxdgLfY5qYWZvuboJKq.jpg',\n",
       "   'release_date': '2018-05-01',\n",
       "   'title': 'Here Come the Teachers',\n",
       "   'video': False,\n",
       "   'vote_average': 5.438,\n",
       "   'vote_count': 382},\n",
       "  {'adult': False,\n",
       "   'backdrop_path': '/sg5h0LzhJtkjOnXwT87OBVjB7qJ.jpg',\n",
       "   'genre_ids': [27, 35, 14],\n",
       "   'id': 535581,\n",
       "   'original_language': 'en',\n",
       "   'original_title': \"The Dead Don't Die\",\n",
       "   'overview': 'In a small peaceful town, zombies suddenly rise to terrorize the town. Now three bespectacled police officers and a strange Scottish morgue expert must band together to defeat the undead.',\n",
       "   'popularity': 3.1562,\n",
       "   'poster_path': '/ndvOjo7Nfk8ULnFLMXthPzhI62L.jpg',\n",
       "   'release_date': '2019-05-15',\n",
       "   'title': \"The Dead Don't Die\",\n",
       "   'video': False,\n",
       "   'vote_average': 5.4,\n",
       "   'vote_count': 2618},\n",
       "  {'adult': False,\n",
       "   'backdrop_path': '/snlu32RmjldF9b068UURJg8sQtn.jpg',\n",
       "   'genre_ids': [28, 80, 14],\n",
       "   'id': 414,\n",
       "   'original_language': 'en',\n",
       "   'original_title': 'Batman Forever',\n",
       "   'overview': 'Batman must battle a disfigured district attorney and a disgruntled former employee with help from an amorous psychologist and a young circus acrobat.',\n",
       "   'popularity': 4.7954,\n",
       "   'poster_path': '/i0fJS8M5UKoETjjJ0zwUiKaR8tr.jpg',\n",
       "   'release_date': '1995-06-16',\n",
       "   'title': 'Batman Forever',\n",
       "   'video': False,\n",
       "   'vote_average': 5.437,\n",
       "   'vote_count': 5239},\n",
       "  {'adult': False,\n",
       "   'backdrop_path': '/ictYT7jrWrJwTs11agZVxX8W1ZB.jpg',\n",
       "   'genre_ids': [27, 14, 53, 18],\n",
       "   'id': 362826,\n",
       "   'original_language': 'en',\n",
       "   'original_title': 'Wildling',\n",
       "   'overview': 'A young woman held in captivity discovers the realities of truth and lies in the outside world.',\n",
       "   'popularity': 1.2723,\n",
       "   'poster_path': '/wZQR6hKRUBqHRL4lfECFES68zGF.jpg',\n",
       "   'release_date': '2018-04-13',\n",
       "   'title': 'Wildling',\n",
       "   'video': False,\n",
       "   'vote_average': 5.435,\n",
       "   'vote_count': 359},\n",
       "  {'adult': False,\n",
       "   'backdrop_path': '/aOZ9Sd3HorqCU4P3mcQE77i1Opq.jpg',\n",
       "   'genre_ids': [27, 53],\n",
       "   'id': 241258,\n",
       "   'original_language': 'en',\n",
       "   'original_title': 'Incarnate',\n",
       "   'overview': 'An exorcist comes up against an evil from his past when he uses his skills to enter the mind of a nine year old boy.',\n",
       "   'popularity': 1.2411,\n",
       "   'poster_path': '/8j8PLnghBHpDEGfANNh8wc5cT4F.jpg',\n",
       "   'release_date': '2016-12-01',\n",
       "   'title': 'Incarnate',\n",
       "   'video': False,\n",
       "   'vote_average': 5.4,\n",
       "   'vote_count': 566},\n",
       "  {'adult': False,\n",
       "   'backdrop_path': '/culKq7ulFDP1KedDKVIQJBY4YtP.jpg',\n",
       "   'genre_ids': [10749, 10751, 10770],\n",
       "   'id': 488113,\n",
       "   'original_language': 'en',\n",
       "   'original_title': 'Christmas Wedding Planner',\n",
       "   'overview': \"Wedding Planner, Kelsey Wilson, is about to have her big break: planning her beloved cousin's lavish and exclusive wedding. Everything is going smoothly until Connor McClane, a devilishly handsome private investigator, shows up and turns Kelsey's world upside-down. Hired by a secret source, Connor quickly disrupts the upcoming nuptials but wins Kelsey's heart in the process.\",\n",
       "   'popularity': 0.5667,\n",
       "   'poster_path': '/6AvDenAws6MmF4Y6ZahRINYLbud.jpg',\n",
       "   'release_date': '2017-12-14',\n",
       "   'title': 'Christmas Wedding Planner',\n",
       "   'video': False,\n",
       "   'vote_average': 5.434,\n",
       "   'vote_count': 418},\n",
       "  {'adult': False,\n",
       "   'backdrop_path': '/lBOV4FayqSUKqvPLMnFCtEeQs4m.jpg',\n",
       "   'genre_ids': [27, 53],\n",
       "   'id': 284564,\n",
       "   'original_language': 'en',\n",
       "   'original_title': '31',\n",
       "   'overview': 'Five carnival workers are kidnapped and held hostage in an abandoned, Hell-like compound where they are forced to participate in a violent game, the goal of which is to survive twelve hours against a gang of sadistic clowns.',\n",
       "   'popularity': 1.5762,\n",
       "   'poster_path': '/jHkIIkP4O0vUkSACcizOPZQIiF7.jpg',\n",
       "   'release_date': '2016-09-15',\n",
       "   'title': '31',\n",
       "   'video': False,\n",
       "   'vote_average': 5.4,\n",
       "   'vote_count': 800},\n",
       "  {'adult': False,\n",
       "   'backdrop_path': '/264UPQQm6cIF3NwXQDrj8W6e7K8.jpg',\n",
       "   'genre_ids': [12, 10751, 35, 14],\n",
       "   'id': 39346,\n",
       "   'original_language': 'en',\n",
       "   'original_title': 'Casper: A Spirited Beginning',\n",
       "   'overview': 'Before he met and befriended the other ghouls at Applegate Manor, friendly ghost Casper meets young Chris Carson, a lonely kid who decides to teach Casper how to be a proper ghost.',\n",
       "   'popularity': 1.0992,\n",
       "   'poster_path': '/qq3K8HnVa8VEdFWUun0ngvfa19h.jpg',\n",
       "   'release_date': '1997-09-09',\n",
       "   'title': 'Casper: A Spirited Beginning',\n",
       "   'video': False,\n",
       "   'vote_average': 5.4,\n",
       "   'vote_count': 319},\n",
       "  {'adult': False,\n",
       "   'backdrop_path': '/hrGk4WuDe62EtyCJIy5G35a7Grw.jpg',\n",
       "   'genre_ids': [27, 9648, 14],\n",
       "   'id': 12597,\n",
       "   'original_language': 'en',\n",
       "   'original_title': 'Hellraiser: Inferno',\n",
       "   'overview': 'A detective solves the puzzle box that releases the diabolical demon, Pinhead. As those around him begin to meet tragic fates, he sets out to conquer the horrifying villain.',\n",
       "   'popularity': 1.5545,\n",
       "   'poster_path': '/rOjUL8XebY7hQmUUZFu5sKyoDEa.jpg',\n",
       "   'release_date': '2000-10-31',\n",
       "   'title': 'Hellraiser: Inferno',\n",
       "   'video': False,\n",
       "   'vote_average': 5.4,\n",
       "   'vote_count': 475},\n",
       "  {'adult': False,\n",
       "   'backdrop_path': '/f9oNiTUoharENGjdDufG0aDbSIO.jpg',\n",
       "   'genre_ids': [53, 18],\n",
       "   'id': 9264,\n",
       "   'original_language': 'en',\n",
       "   'original_title': 'Poison Ivy',\n",
       "   'overview': 'A seductive teen befriends an introverted high school student and schemes her way into the lives of her wealthy family.',\n",
       "   'popularity': 1.9609,\n",
       "   'poster_path': '/igwGf0qNka1qH1HPijgbABfUfB4.jpg',\n",
       "   'release_date': '1992-05-08',\n",
       "   'title': 'Poison Ivy',\n",
       "   'video': False,\n",
       "   'vote_average': 5.4,\n",
       "   'vote_count': 365},\n",
       "  {'adult': False,\n",
       "   'backdrop_path': '/yWdaNrUYsBvELBkxWO24e5x7zEz.jpg',\n",
       "   'genre_ids': [28, 35, 878, 14],\n",
       "   'id': 9067,\n",
       "   'original_language': 'en',\n",
       "   'original_title': 'Tank Girl',\n",
       "   'overview': \"After a comet disrupts the rain cycle of Earth, the planet has become a desolate, barren desert by the year 2033. With resources scarce, Kesslee, head of the powerful and evil Water & Power Corporation, the de facto government, has taken control of the water supply. Unwilling to cower under Kesslee's tyrannical rule, a pair of outlaws known as Tank Girl and Jet Girl rise up, joining the mysterious rebel Rippers to destroy the corrupt system.\",\n",
       "   'popularity': 1.5754,\n",
       "   'poster_path': '/qohdY3BcJ98sFneOUAWp0FmH4Z6.jpg',\n",
       "   'release_date': '1995-03-31',\n",
       "   'title': 'Tank Girl',\n",
       "   'video': False,\n",
       "   'vote_average': 5.4,\n",
       "   'vote_count': 512},\n",
       "  {'adult': False,\n",
       "   'backdrop_path': '/cRNN5T9TZycViR5wvyfo7V5NgUb.jpg',\n",
       "   'genre_ids': [28, 35],\n",
       "   'id': 37931,\n",
       "   'original_language': 'en',\n",
       "   'original_title': 'MacGruber',\n",
       "   'overview': \"Ex-special operative MacGruber is called back into action to take down his archenemy, Dieter Von Cunth, who's in possession of a nuclear warhead and bent on destroying Washington, DC.\",\n",
       "   'popularity': 1.0661,\n",
       "   'poster_path': '/4WrSz0dRfq6XwJUQlYvzuhJq8hR.jpg',\n",
       "   'release_date': '2010-05-21',\n",
       "   'title': 'MacGruber',\n",
       "   'video': False,\n",
       "   'vote_average': 5.4,\n",
       "   'vote_count': 555},\n",
       "  {'adult': False,\n",
       "   'backdrop_path': '/nl5qDEJSTe4iO9VlhLhYJxKhbOI.jpg',\n",
       "   'genre_ids': [12, 18, 14, 10751, 53],\n",
       "   'id': 2274,\n",
       "   'original_language': 'en',\n",
       "   'original_title': 'The Seeker: The Dark Is Rising',\n",
       "   'overview': \"A boy's life is turned upside down when he learns that he is the last of a group of immortal warriors who have dedicated their lives to fighting the forces of the dark.\",\n",
       "   'popularity': 1.3634,\n",
       "   'poster_path': '/e7xzSPn8pTJSobjxSSpIipArfcq.jpg',\n",
       "   'release_date': '2007-10-05',\n",
       "   'title': 'The Seeker: The Dark Is Rising',\n",
       "   'video': False,\n",
       "   'vote_average': 5.4,\n",
       "   'vote_count': 418},\n",
       "  {'adult': False,\n",
       "   'backdrop_path': '/lZYsPT5WzDMgHe4tZzO9GHVN9ei.jpg',\n",
       "   'genre_ids': [10749, 35],\n",
       "   'id': 1641,\n",
       "   'original_language': 'en',\n",
       "   'original_title': 'Forces of Nature',\n",
       "   'overview': 'Ben Holmes, a professional book-jacket blurbologist, is trying to get to Savannah for his wedding. He just barely catches the last plane, but a seagull flies into the engine as the plane is taking off. All later flights are cancelled because of an approaching hurricane, so he is forced to hitch a ride in a Geo Metro with an attractive but eccentric woman named Sara.',\n",
       "   'popularity': 1.0013,\n",
       "   'poster_path': '/etmjiee84g6G9WALmLkJ1DhenAu.jpg',\n",
       "   'release_date': '1999-03-12',\n",
       "   'title': 'Forces of Nature',\n",
       "   'video': False,\n",
       "   'vote_average': 5.4,\n",
       "   'vote_count': 556},\n",
       "  {'adult': False,\n",
       "   'backdrop_path': '/hdsljBbm6xRpVDOvRg5lBcE6A6h.jpg',\n",
       "   'genre_ids': [27, 53],\n",
       "   'id': 125509,\n",
       "   'original_language': 'en',\n",
       "   'original_title': 'Wrong Turn 5: Bloodlines',\n",
       "   'overview': 'A small West Virginia town is hosting the legendary Mountain Man Festival on Halloween, where throngs of costumed party goers gather for a wild night of music and mischief. But an inbred family of hillbilly cannibals kill the fun when they trick and treat themselves to a group of visiting college students.',\n",
       "   'popularity': 8.245,\n",
       "   'poster_path': '/nALE9wbgwIYKuwdhANoLbxasw7z.jpg',\n",
       "   'release_date': '2012-10-18',\n",
       "   'title': 'Wrong Turn 5: Bloodlines',\n",
       "   'video': False,\n",
       "   'vote_average': 5.4,\n",
       "   'vote_count': 960},\n",
       "  {'adult': False,\n",
       "   'backdrop_path': '/qpHQMt7zzlEkN3R4zMsYkqhgpeK.jpg',\n",
       "   'genre_ids': [878],\n",
       "   'id': 10048,\n",
       "   'original_language': 'en',\n",
       "   'original_title': 'Stealth',\n",
       "   'overview': 'Deeply ensconced in a top-secret military program, three pilots struggle to bring an artificial intelligence program under control ... before it initiates the next world war.',\n",
       "   'popularity': 2.4695,\n",
       "   'poster_path': '/cVtQHyTwaDhYFVRFXSuDthC2bXH.jpg',\n",
       "   'release_date': '2005-07-27',\n",
       "   'title': 'Stealth',\n",
       "   'video': False,\n",
       "   'vote_average': 5.43,\n",
       "   'vote_count': 1065},\n",
       "  {'adult': False,\n",
       "   'backdrop_path': '/kTrgxhRSj2sun89bDbnGCPBiey6.jpg',\n",
       "   'genre_ids': [16, 10751, 35],\n",
       "   'id': 378236,\n",
       "   'original_language': 'en',\n",
       "   'original_title': 'The Emoji Movie',\n",
       "   'overview': 'Gene, a multi-expressional emoji, sets out on a journey to become a normal emoji.',\n",
       "   'popularity': 4.2013,\n",
       "   'poster_path': '/60bTx5z9zL1AqCjZ0gmWoRMJ6Bb.jpg',\n",
       "   'release_date': '2017-07-23',\n",
       "   'title': 'The Emoji Movie',\n",
       "   'video': False,\n",
       "   'vote_average': 5.4,\n",
       "   'vote_count': 3135},\n",
       "  {'adult': False,\n",
       "   'backdrop_path': '/206lp1mTQf7TOjynKKXaWgt9lSS.jpg',\n",
       "   'genre_ids': [27, 9648, 18],\n",
       "   'id': 92182,\n",
       "   'original_language': 'en',\n",
       "   'original_title': 'Silent House',\n",
       "   'overview': \"Sarah returns with her father and uncle to fix up the family's longtime summerhouse after it was violated by squatters in the off-season. As they work in the dark, Sarah begins to hear sounds from within the walls of the boarded-up building. Although she barely remembers the place, Sarah senses the past may still haunt the home.\",\n",
       "   'popularity': 1.0452,\n",
       "   'poster_path': '/mbkvYlx1scovMi80rOOkNBvgU11.jpg',\n",
       "   'release_date': '2011-01-21',\n",
       "   'title': 'Silent House',\n",
       "   'video': False,\n",
       "   'vote_average': 5.427,\n",
       "   'vote_count': 410}],\n",
       " 'total_pages': 504,\n",
       " 'total_results': 10063}"
      ]
     },
     "execution_count": 1,
     "metadata": {},
     "output_type": "execute_result"
    }
   ],
   "source": [
    "import requests as req\n",
    "import json\n",
    "response = req.request(method='GET',url=\"https://api.themoviedb.org/3/movie/top_rated?api_key=8265bd1679663a7ea12ac168da84d2e8&language=en-US&page=471\")\n",
    "response.json()"
   ]
  },
  {
   "cell_type": "code",
   "execution_count": 2,
   "metadata": {},
   "outputs": [
    {
     "data": {
      "text/plain": [
       "[{'adult': False,\n",
       "  'backdrop_path': '/ridcUDnFumpMB5AAsIvFafTSx5i.jpg',\n",
       "  'genre_ids': [53, 9648, 18],\n",
       "  'id': 452832,\n",
       "  'original_language': 'en',\n",
       "  'original_title': 'Serenity',\n",
       "  'overview': 'The quiet life of Baker Dill, a fishing boat captain who lives on the isolated Plymouth Island, where he spends his days obsessed with capturing an elusive tuna while fighting his personal demons, is interrupted when someone from his past comes to him searching for help.',\n",
       "  'popularity': 2.6027,\n",
       "  'poster_path': '/hgWAcic93phg4DOuQ8NrsgQWiqu.jpg',\n",
       "  'release_date': '2019-01-24',\n",
       "  'title': 'Serenity',\n",
       "  'video': False,\n",
       "  'vote_average': 5.438,\n",
       "  'vote_count': 1543},\n",
       " {'adult': False,\n",
       "  'backdrop_path': '/cc7Nmid20lcfNh1eucWdLKidi7s.jpg',\n",
       "  'genre_ids': [53, 80, 18],\n",
       "  'id': 850018,\n",
       "  'original_language': 'en',\n",
       "  'original_title': 'Windfall',\n",
       "  'overview': \"A man breaks into a tech billionaire's empty vacation home, but things go sideways when the arrogant mogul and his wife arrive for a last-minute getaway.\",\n",
       "  'popularity': 0.9325,\n",
       "  'poster_path': '/njBc0nNdl9QbsfMwyRqJkmW4NQO.jpg',\n",
       "  'release_date': '2022-03-11',\n",
       "  'title': 'Windfall',\n",
       "  'video': False,\n",
       "  'vote_average': 5.4,\n",
       "  'vote_count': 427},\n",
       " {'adult': False,\n",
       "  'backdrop_path': '/ftVld1YSBU92swRb1mRryUs7xR2.jpg',\n",
       "  'genre_ids': [35],\n",
       "  'id': 516043,\n",
       "  'original_language': 'it',\n",
       "  'original_title': 'Arrivano i prof',\n",
       "  'overview': \"The Manzoni High School in Milan is the worst in Italy. When the percentage of those promoted falls to 12%, it's time for the last resort: to entrust the classes to the worst of the available teachers.\",\n",
       "  'popularity': 0.2624,\n",
       "  'poster_path': '/mBc8UOa5VxdgLfY5qYWZvuboJKq.jpg',\n",
       "  'release_date': '2018-05-01',\n",
       "  'title': 'Here Come the Teachers',\n",
       "  'video': False,\n",
       "  'vote_average': 5.438,\n",
       "  'vote_count': 382},\n",
       " {'adult': False,\n",
       "  'backdrop_path': '/sg5h0LzhJtkjOnXwT87OBVjB7qJ.jpg',\n",
       "  'genre_ids': [27, 35, 14],\n",
       "  'id': 535581,\n",
       "  'original_language': 'en',\n",
       "  'original_title': \"The Dead Don't Die\",\n",
       "  'overview': 'In a small peaceful town, zombies suddenly rise to terrorize the town. Now three bespectacled police officers and a strange Scottish morgue expert must band together to defeat the undead.',\n",
       "  'popularity': 3.1562,\n",
       "  'poster_path': '/ndvOjo7Nfk8ULnFLMXthPzhI62L.jpg',\n",
       "  'release_date': '2019-05-15',\n",
       "  'title': \"The Dead Don't Die\",\n",
       "  'video': False,\n",
       "  'vote_average': 5.4,\n",
       "  'vote_count': 2618},\n",
       " {'adult': False,\n",
       "  'backdrop_path': '/snlu32RmjldF9b068UURJg8sQtn.jpg',\n",
       "  'genre_ids': [28, 80, 14],\n",
       "  'id': 414,\n",
       "  'original_language': 'en',\n",
       "  'original_title': 'Batman Forever',\n",
       "  'overview': 'Batman must battle a disfigured district attorney and a disgruntled former employee with help from an amorous psychologist and a young circus acrobat.',\n",
       "  'popularity': 4.7954,\n",
       "  'poster_path': '/i0fJS8M5UKoETjjJ0zwUiKaR8tr.jpg',\n",
       "  'release_date': '1995-06-16',\n",
       "  'title': 'Batman Forever',\n",
       "  'video': False,\n",
       "  'vote_average': 5.437,\n",
       "  'vote_count': 5239},\n",
       " {'adult': False,\n",
       "  'backdrop_path': '/ictYT7jrWrJwTs11agZVxX8W1ZB.jpg',\n",
       "  'genre_ids': [27, 14, 53, 18],\n",
       "  'id': 362826,\n",
       "  'original_language': 'en',\n",
       "  'original_title': 'Wildling',\n",
       "  'overview': 'A young woman held in captivity discovers the realities of truth and lies in the outside world.',\n",
       "  'popularity': 1.2723,\n",
       "  'poster_path': '/wZQR6hKRUBqHRL4lfECFES68zGF.jpg',\n",
       "  'release_date': '2018-04-13',\n",
       "  'title': 'Wildling',\n",
       "  'video': False,\n",
       "  'vote_average': 5.435,\n",
       "  'vote_count': 359},\n",
       " {'adult': False,\n",
       "  'backdrop_path': '/aOZ9Sd3HorqCU4P3mcQE77i1Opq.jpg',\n",
       "  'genre_ids': [27, 53],\n",
       "  'id': 241258,\n",
       "  'original_language': 'en',\n",
       "  'original_title': 'Incarnate',\n",
       "  'overview': 'An exorcist comes up against an evil from his past when he uses his skills to enter the mind of a nine year old boy.',\n",
       "  'popularity': 1.2411,\n",
       "  'poster_path': '/8j8PLnghBHpDEGfANNh8wc5cT4F.jpg',\n",
       "  'release_date': '2016-12-01',\n",
       "  'title': 'Incarnate',\n",
       "  'video': False,\n",
       "  'vote_average': 5.4,\n",
       "  'vote_count': 566},\n",
       " {'adult': False,\n",
       "  'backdrop_path': '/culKq7ulFDP1KedDKVIQJBY4YtP.jpg',\n",
       "  'genre_ids': [10749, 10751, 10770],\n",
       "  'id': 488113,\n",
       "  'original_language': 'en',\n",
       "  'original_title': 'Christmas Wedding Planner',\n",
       "  'overview': \"Wedding Planner, Kelsey Wilson, is about to have her big break: planning her beloved cousin's lavish and exclusive wedding. Everything is going smoothly until Connor McClane, a devilishly handsome private investigator, shows up and turns Kelsey's world upside-down. Hired by a secret source, Connor quickly disrupts the upcoming nuptials but wins Kelsey's heart in the process.\",\n",
       "  'popularity': 0.5667,\n",
       "  'poster_path': '/6AvDenAws6MmF4Y6ZahRINYLbud.jpg',\n",
       "  'release_date': '2017-12-14',\n",
       "  'title': 'Christmas Wedding Planner',\n",
       "  'video': False,\n",
       "  'vote_average': 5.434,\n",
       "  'vote_count': 418},\n",
       " {'adult': False,\n",
       "  'backdrop_path': '/lBOV4FayqSUKqvPLMnFCtEeQs4m.jpg',\n",
       "  'genre_ids': [27, 53],\n",
       "  'id': 284564,\n",
       "  'original_language': 'en',\n",
       "  'original_title': '31',\n",
       "  'overview': 'Five carnival workers are kidnapped and held hostage in an abandoned, Hell-like compound where they are forced to participate in a violent game, the goal of which is to survive twelve hours against a gang of sadistic clowns.',\n",
       "  'popularity': 1.5762,\n",
       "  'poster_path': '/jHkIIkP4O0vUkSACcizOPZQIiF7.jpg',\n",
       "  'release_date': '2016-09-15',\n",
       "  'title': '31',\n",
       "  'video': False,\n",
       "  'vote_average': 5.4,\n",
       "  'vote_count': 800},\n",
       " {'adult': False,\n",
       "  'backdrop_path': '/264UPQQm6cIF3NwXQDrj8W6e7K8.jpg',\n",
       "  'genre_ids': [12, 10751, 35, 14],\n",
       "  'id': 39346,\n",
       "  'original_language': 'en',\n",
       "  'original_title': 'Casper: A Spirited Beginning',\n",
       "  'overview': 'Before he met and befriended the other ghouls at Applegate Manor, friendly ghost Casper meets young Chris Carson, a lonely kid who decides to teach Casper how to be a proper ghost.',\n",
       "  'popularity': 1.0992,\n",
       "  'poster_path': '/qq3K8HnVa8VEdFWUun0ngvfa19h.jpg',\n",
       "  'release_date': '1997-09-09',\n",
       "  'title': 'Casper: A Spirited Beginning',\n",
       "  'video': False,\n",
       "  'vote_average': 5.4,\n",
       "  'vote_count': 319},\n",
       " {'adult': False,\n",
       "  'backdrop_path': '/hrGk4WuDe62EtyCJIy5G35a7Grw.jpg',\n",
       "  'genre_ids': [27, 9648, 14],\n",
       "  'id': 12597,\n",
       "  'original_language': 'en',\n",
       "  'original_title': 'Hellraiser: Inferno',\n",
       "  'overview': 'A detective solves the puzzle box that releases the diabolical demon, Pinhead. As those around him begin to meet tragic fates, he sets out to conquer the horrifying villain.',\n",
       "  'popularity': 1.5545,\n",
       "  'poster_path': '/rOjUL8XebY7hQmUUZFu5sKyoDEa.jpg',\n",
       "  'release_date': '2000-10-31',\n",
       "  'title': 'Hellraiser: Inferno',\n",
       "  'video': False,\n",
       "  'vote_average': 5.4,\n",
       "  'vote_count': 475},\n",
       " {'adult': False,\n",
       "  'backdrop_path': '/f9oNiTUoharENGjdDufG0aDbSIO.jpg',\n",
       "  'genre_ids': [53, 18],\n",
       "  'id': 9264,\n",
       "  'original_language': 'en',\n",
       "  'original_title': 'Poison Ivy',\n",
       "  'overview': 'A seductive teen befriends an introverted high school student and schemes her way into the lives of her wealthy family.',\n",
       "  'popularity': 1.9609,\n",
       "  'poster_path': '/igwGf0qNka1qH1HPijgbABfUfB4.jpg',\n",
       "  'release_date': '1992-05-08',\n",
       "  'title': 'Poison Ivy',\n",
       "  'video': False,\n",
       "  'vote_average': 5.4,\n",
       "  'vote_count': 365},\n",
       " {'adult': False,\n",
       "  'backdrop_path': '/yWdaNrUYsBvELBkxWO24e5x7zEz.jpg',\n",
       "  'genre_ids': [28, 35, 878, 14],\n",
       "  'id': 9067,\n",
       "  'original_language': 'en',\n",
       "  'original_title': 'Tank Girl',\n",
       "  'overview': \"After a comet disrupts the rain cycle of Earth, the planet has become a desolate, barren desert by the year 2033. With resources scarce, Kesslee, head of the powerful and evil Water & Power Corporation, the de facto government, has taken control of the water supply. Unwilling to cower under Kesslee's tyrannical rule, a pair of outlaws known as Tank Girl and Jet Girl rise up, joining the mysterious rebel Rippers to destroy the corrupt system.\",\n",
       "  'popularity': 1.5754,\n",
       "  'poster_path': '/qohdY3BcJ98sFneOUAWp0FmH4Z6.jpg',\n",
       "  'release_date': '1995-03-31',\n",
       "  'title': 'Tank Girl',\n",
       "  'video': False,\n",
       "  'vote_average': 5.4,\n",
       "  'vote_count': 512},\n",
       " {'adult': False,\n",
       "  'backdrop_path': '/cRNN5T9TZycViR5wvyfo7V5NgUb.jpg',\n",
       "  'genre_ids': [28, 35],\n",
       "  'id': 37931,\n",
       "  'original_language': 'en',\n",
       "  'original_title': 'MacGruber',\n",
       "  'overview': \"Ex-special operative MacGruber is called back into action to take down his archenemy, Dieter Von Cunth, who's in possession of a nuclear warhead and bent on destroying Washington, DC.\",\n",
       "  'popularity': 1.0661,\n",
       "  'poster_path': '/4WrSz0dRfq6XwJUQlYvzuhJq8hR.jpg',\n",
       "  'release_date': '2010-05-21',\n",
       "  'title': 'MacGruber',\n",
       "  'video': False,\n",
       "  'vote_average': 5.4,\n",
       "  'vote_count': 555},\n",
       " {'adult': False,\n",
       "  'backdrop_path': '/nl5qDEJSTe4iO9VlhLhYJxKhbOI.jpg',\n",
       "  'genre_ids': [12, 18, 14, 10751, 53],\n",
       "  'id': 2274,\n",
       "  'original_language': 'en',\n",
       "  'original_title': 'The Seeker: The Dark Is Rising',\n",
       "  'overview': \"A boy's life is turned upside down when he learns that he is the last of a group of immortal warriors who have dedicated their lives to fighting the forces of the dark.\",\n",
       "  'popularity': 1.3634,\n",
       "  'poster_path': '/e7xzSPn8pTJSobjxSSpIipArfcq.jpg',\n",
       "  'release_date': '2007-10-05',\n",
       "  'title': 'The Seeker: The Dark Is Rising',\n",
       "  'video': False,\n",
       "  'vote_average': 5.4,\n",
       "  'vote_count': 418},\n",
       " {'adult': False,\n",
       "  'backdrop_path': '/lZYsPT5WzDMgHe4tZzO9GHVN9ei.jpg',\n",
       "  'genre_ids': [10749, 35],\n",
       "  'id': 1641,\n",
       "  'original_language': 'en',\n",
       "  'original_title': 'Forces of Nature',\n",
       "  'overview': 'Ben Holmes, a professional book-jacket blurbologist, is trying to get to Savannah for his wedding. He just barely catches the last plane, but a seagull flies into the engine as the plane is taking off. All later flights are cancelled because of an approaching hurricane, so he is forced to hitch a ride in a Geo Metro with an attractive but eccentric woman named Sara.',\n",
       "  'popularity': 1.0013,\n",
       "  'poster_path': '/etmjiee84g6G9WALmLkJ1DhenAu.jpg',\n",
       "  'release_date': '1999-03-12',\n",
       "  'title': 'Forces of Nature',\n",
       "  'video': False,\n",
       "  'vote_average': 5.4,\n",
       "  'vote_count': 556},\n",
       " {'adult': False,\n",
       "  'backdrop_path': '/hdsljBbm6xRpVDOvRg5lBcE6A6h.jpg',\n",
       "  'genre_ids': [27, 53],\n",
       "  'id': 125509,\n",
       "  'original_language': 'en',\n",
       "  'original_title': 'Wrong Turn 5: Bloodlines',\n",
       "  'overview': 'A small West Virginia town is hosting the legendary Mountain Man Festival on Halloween, where throngs of costumed party goers gather for a wild night of music and mischief. But an inbred family of hillbilly cannibals kill the fun when they trick and treat themselves to a group of visiting college students.',\n",
       "  'popularity': 8.245,\n",
       "  'poster_path': '/nALE9wbgwIYKuwdhANoLbxasw7z.jpg',\n",
       "  'release_date': '2012-10-18',\n",
       "  'title': 'Wrong Turn 5: Bloodlines',\n",
       "  'video': False,\n",
       "  'vote_average': 5.4,\n",
       "  'vote_count': 960},\n",
       " {'adult': False,\n",
       "  'backdrop_path': '/qpHQMt7zzlEkN3R4zMsYkqhgpeK.jpg',\n",
       "  'genre_ids': [878],\n",
       "  'id': 10048,\n",
       "  'original_language': 'en',\n",
       "  'original_title': 'Stealth',\n",
       "  'overview': 'Deeply ensconced in a top-secret military program, three pilots struggle to bring an artificial intelligence program under control ... before it initiates the next world war.',\n",
       "  'popularity': 2.4695,\n",
       "  'poster_path': '/cVtQHyTwaDhYFVRFXSuDthC2bXH.jpg',\n",
       "  'release_date': '2005-07-27',\n",
       "  'title': 'Stealth',\n",
       "  'video': False,\n",
       "  'vote_average': 5.43,\n",
       "  'vote_count': 1065},\n",
       " {'adult': False,\n",
       "  'backdrop_path': '/kTrgxhRSj2sun89bDbnGCPBiey6.jpg',\n",
       "  'genre_ids': [16, 10751, 35],\n",
       "  'id': 378236,\n",
       "  'original_language': 'en',\n",
       "  'original_title': 'The Emoji Movie',\n",
       "  'overview': 'Gene, a multi-expressional emoji, sets out on a journey to become a normal emoji.',\n",
       "  'popularity': 4.2013,\n",
       "  'poster_path': '/60bTx5z9zL1AqCjZ0gmWoRMJ6Bb.jpg',\n",
       "  'release_date': '2017-07-23',\n",
       "  'title': 'The Emoji Movie',\n",
       "  'video': False,\n",
       "  'vote_average': 5.4,\n",
       "  'vote_count': 3135},\n",
       " {'adult': False,\n",
       "  'backdrop_path': '/206lp1mTQf7TOjynKKXaWgt9lSS.jpg',\n",
       "  'genre_ids': [27, 9648, 18],\n",
       "  'id': 92182,\n",
       "  'original_language': 'en',\n",
       "  'original_title': 'Silent House',\n",
       "  'overview': \"Sarah returns with her father and uncle to fix up the family's longtime summerhouse after it was violated by squatters in the off-season. As they work in the dark, Sarah begins to hear sounds from within the walls of the boarded-up building. Although she barely remembers the place, Sarah senses the past may still haunt the home.\",\n",
       "  'popularity': 1.0452,\n",
       "  'poster_path': '/mbkvYlx1scovMi80rOOkNBvgU11.jpg',\n",
       "  'release_date': '2011-01-21',\n",
       "  'title': 'Silent House',\n",
       "  'video': False,\n",
       "  'vote_average': 5.427,\n",
       "  'vote_count': 410}]"
      ]
     },
     "execution_count": 2,
     "metadata": {},
     "output_type": "execute_result"
    }
   ],
   "source": [
    "response.json()['results']"
   ]
  },
  {
   "cell_type": "code",
   "execution_count": 3,
   "metadata": {},
   "outputs": [
    {
     "data": {
      "text/html": [
       "<div>\n",
       "<style scoped>\n",
       "    .dataframe tbody tr th:only-of-type {\n",
       "        vertical-align: middle;\n",
       "    }\n",
       "\n",
       "    .dataframe tbody tr th {\n",
       "        vertical-align: top;\n",
       "    }\n",
       "\n",
       "    .dataframe thead th {\n",
       "        text-align: right;\n",
       "    }\n",
       "</style>\n",
       "<table border=\"1\" class=\"dataframe\">\n",
       "  <thead>\n",
       "    <tr style=\"text-align: right;\">\n",
       "      <th></th>\n",
       "      <th>review</th>\n",
       "      <th>sentiment</th>\n",
       "    </tr>\n",
       "  </thead>\n",
       "  <tbody>\n",
       "    <tr>\n",
       "      <th>0</th>\n",
       "      <td>One of the other reviewers has mentioned that ...</td>\n",
       "      <td>positive</td>\n",
       "    </tr>\n",
       "    <tr>\n",
       "      <th>1</th>\n",
       "      <td>A wonderful little production. &lt;br /&gt;&lt;br /&gt;The...</td>\n",
       "      <td>positive</td>\n",
       "    </tr>\n",
       "    <tr>\n",
       "      <th>2</th>\n",
       "      <td>I thought this was a wonderful way to spend ti...</td>\n",
       "      <td>positive</td>\n",
       "    </tr>\n",
       "    <tr>\n",
       "      <th>3</th>\n",
       "      <td>Basically there's a family where a little boy ...</td>\n",
       "      <td>negative</td>\n",
       "    </tr>\n",
       "    <tr>\n",
       "      <th>4</th>\n",
       "      <td>Petter Mattei's \"Love in the Time of Money\" is...</td>\n",
       "      <td>positive</td>\n",
       "    </tr>\n",
       "    <tr>\n",
       "      <th>...</th>\n",
       "      <td>...</td>\n",
       "      <td>...</td>\n",
       "    </tr>\n",
       "    <tr>\n",
       "      <th>49995</th>\n",
       "      <td>I thought this movie did a down right good job...</td>\n",
       "      <td>positive</td>\n",
       "    </tr>\n",
       "    <tr>\n",
       "      <th>49996</th>\n",
       "      <td>Bad plot, bad dialogue, bad acting, idiotic di...</td>\n",
       "      <td>negative</td>\n",
       "    </tr>\n",
       "    <tr>\n",
       "      <th>49997</th>\n",
       "      <td>I am a Catholic taught in parochial elementary...</td>\n",
       "      <td>negative</td>\n",
       "    </tr>\n",
       "    <tr>\n",
       "      <th>49998</th>\n",
       "      <td>I'm going to have to disagree with the previou...</td>\n",
       "      <td>negative</td>\n",
       "    </tr>\n",
       "    <tr>\n",
       "      <th>49999</th>\n",
       "      <td>No one expects the Star Trek movies to be high...</td>\n",
       "      <td>negative</td>\n",
       "    </tr>\n",
       "  </tbody>\n",
       "</table>\n",
       "<p>50000 rows × 2 columns</p>\n",
       "</div>"
      ],
      "text/plain": [
       "                                                  review sentiment\n",
       "0      One of the other reviewers has mentioned that ...  positive\n",
       "1      A wonderful little production. <br /><br />The...  positive\n",
       "2      I thought this was a wonderful way to spend ti...  positive\n",
       "3      Basically there's a family where a little boy ...  negative\n",
       "4      Petter Mattei's \"Love in the Time of Money\" is...  positive\n",
       "...                                                  ...       ...\n",
       "49995  I thought this movie did a down right good job...  positive\n",
       "49996  Bad plot, bad dialogue, bad acting, idiotic di...  negative\n",
       "49997  I am a Catholic taught in parochial elementary...  negative\n",
       "49998  I'm going to have to disagree with the previou...  negative\n",
       "49999  No one expects the Star Trek movies to be high...  negative\n",
       "\n",
       "[50000 rows x 2 columns]"
      ]
     },
     "execution_count": 3,
     "metadata": {},
     "output_type": "execute_result"
    }
   ],
   "source": [
    "import pandas as pd\n",
    "data = pd.read_csv(r\"D:\\Ao\\Code\\DSc-MISC\\natural-language-processing\\X\\datasets\\\\imdb_reviews.csv\")\n",
    "data"
   ]
  },
  {
   "cell_type": "code",
   "execution_count": 4,
   "metadata": {},
   "outputs": [
    {
     "data": {
      "text/plain": [
       "\"Basically there's a family where a little boy (Jake) thinks there's a zombie in his closet & his parents are fighting all the time.<br /><br />This movie is slower than a soap opera... and suddenly, Jake decides to become Rambo and kill the zombie.<br /><br />OK, first of all when you're going to make a film you must Decide if its a thriller or a drama! As a drama the movie is watchable. Parents are divorcing & arguing like in real life. And then we have Jake with his closet which totally ruins all the film! I expected to see a BOOGEYMAN similar movie, and instead i watched a drama with some meaningless thriller spots.<br /><br />3 out of 10 just for the well playing parents & descent dialogs. As for the shots with Jake: just ignore them.\""
      ]
     },
     "execution_count": 4,
     "metadata": {},
     "output_type": "execute_result"
    }
   ],
   "source": [
    "data.review[3]"
   ]
  },
  {
   "cell_type": "markdown",
   "metadata": {},
   "source": [
    "1. Lowercasing"
   ]
  },
  {
   "cell_type": "code",
   "execution_count": 5,
   "metadata": {},
   "outputs": [
    {
     "data": {
      "text/plain": [
       "0        one of the other reviewers has mentioned that ...\n",
       "1        a wonderful little production. <br /><br />the...\n",
       "2        i thought this was a wonderful way to spend ti...\n",
       "3        basically there's a family where a little boy ...\n",
       "4        petter mattei's \"love in the time of money\" is...\n",
       "                               ...                        \n",
       "49995    i thought this movie did a down right good job...\n",
       "49996    bad plot, bad dialogue, bad acting, idiotic di...\n",
       "49997    i am a catholic taught in parochial elementary...\n",
       "49998    i'm going to have to disagree with the previou...\n",
       "49999    no one expects the star trek movies to be high...\n",
       "Name: review, Length: 50000, dtype: object"
      ]
     },
     "execution_count": 5,
     "metadata": {},
     "output_type": "execute_result"
    }
   ],
   "source": [
    "data['review'] = data.review.apply(str.lower)\n",
    "data.review"
   ]
  },
  {
   "cell_type": "markdown",
   "metadata": {},
   "source": [
    "2. Remove HTML Tags"
   ]
  },
  {
   "cell_type": "code",
   "execution_count": 6,
   "metadata": {},
   "outputs": [
    {
     "data": {
      "text/plain": [
       "\"basically there's a family where a little boy (jake) thinks there's a zombie in his closet & his parents are fighting all the time.<br /><br />this movie is slower than a soap opera... and suddenly, jake decides to become rambo and kill the zombie.<br /><br />ok, first of all when you're going to make a film you must decide if its a thriller or a drama! as a drama the movie is watchable. parents are divorcing & arguing like in real life. and then we have jake with his closet which totally ruins all the film! i expected to see a boogeyman similar movie, and instead i watched a drama with some meaningless thriller spots.<br /><br />3 out of 10 just for the well playing parents & descent dialogs. as for the shots with jake: just ignore them.\""
      ]
     },
     "execution_count": 6,
     "metadata": {},
     "output_type": "execute_result"
    }
   ],
   "source": [
    "text = data.review[3]\n",
    "text"
   ]
  },
  {
   "cell_type": "code",
   "execution_count": 7,
   "metadata": {},
   "outputs": [
    {
     "data": {
      "text/plain": [
       "\"basically there's a family where a little boy (jake) thinks there's a zombie in his closet & his parents are fighting all the time.this movie is slower than a soap opera... and suddenly, jake decides to become rambo and kill the zombie.ok, first of all when you're going to make a film you must decide if its a thriller or a drama! as a drama the movie is watchable. parents are divorcing & arguing like in real life. and then we have jake with his closet which totally ruins all the film! i expected to see a boogeyman similar movie, and instead i watched a drama with some meaningless thriller spots.3 out of 10 just for the well playing parents & descent dialogs. as for the shots with jake: just ignore them.\""
      ]
     },
     "execution_count": 7,
     "metadata": {},
     "output_type": "execute_result"
    }
   ],
   "source": [
    "import re\n",
    "\n",
    "def remove_html_tags(input_text):\n",
    "    clean_text = re.sub(r'<.*?>', '', input_text)\n",
    "    return clean_text\n",
    "\n",
    "remove_html_tags(text)"
   ]
  },
  {
   "cell_type": "code",
   "execution_count": 8,
   "metadata": {},
   "outputs": [
    {
     "data": {
      "text/plain": [
       "\"basically there's a family where a little boy (jake) thinks there's a zombie in his closet & his parents are fighting all the time.this movie is slower than a soap opera... and suddenly, jake decides to become rambo and kill the zombie.ok, first of all when you're going to make a film you must decide if its a thriller or a drama! as a drama the movie is watchable. parents are divorcing & arguing like in real life. and then we have jake with his closet which totally ruins all the film! i expected to see a boogeyman similar movie, and instead i watched a drama with some meaningless thriller spots.3 out of 10 just for the well playing parents & descent dialogs. as for the shots with jake: just ignore them.\""
      ]
     },
     "execution_count": 8,
     "metadata": {},
     "output_type": "execute_result"
    }
   ],
   "source": [
    "from bs4 import BeautifulSoup\n",
    "\n",
    "def remove_html_tags_bs(input_text):\n",
    "    soup = BeautifulSoup(input_text, \"html.parser\")\n",
    "    return soup.getText()\n",
    "\n",
    "remove_html_tags_bs(text)"
   ]
  },
  {
   "cell_type": "code",
   "execution_count": 9,
   "metadata": {},
   "outputs": [
    {
     "data": {
      "text/plain": [
       "0        one of the other reviewers has mentioned that ...\n",
       "1        a wonderful little production. the filming tec...\n",
       "2        i thought this was a wonderful way to spend ti...\n",
       "3        basically there's a family where a little boy ...\n",
       "4        petter mattei's \"love in the time of money\" is...\n",
       "                               ...                        \n",
       "49995    i thought this movie did a down right good job...\n",
       "49996    bad plot, bad dialogue, bad acting, idiotic di...\n",
       "49997    i am a catholic taught in parochial elementary...\n",
       "49998    i'm going to have to disagree with the previou...\n",
       "49999    no one expects the star trek movies to be high...\n",
       "Name: review, Length: 50000, dtype: object"
      ]
     },
     "execution_count": 9,
     "metadata": {},
     "output_type": "execute_result"
    }
   ],
   "source": [
    "data['review'] = data.review.apply(remove_html_tags_bs)\n",
    "data.review"
   ]
  },
  {
   "cell_type": "markdown",
   "metadata": {},
   "source": [
    "3. Remove URLs"
   ]
  },
  {
   "cell_type": "code",
   "execution_count": 10,
   "metadata": {},
   "outputs": [],
   "source": [
    "# Set display options to show full DataFrame without truncation\n",
    "pd.set_option('display.max_columns', None)  # Show all columns\n",
    "pd.set_option('display.max_rows', None)     # Show all rows (use carefully if it's a large DataFrame)\n",
    "pd.set_option('display.max_colwidth', None)  # Don't truncate column content\n",
    "pd.set_option('display.width', None)        # Set width to None for automatic wrapping\n"
   ]
  },
  {
   "cell_type": "code",
   "execution_count": 11,
   "metadata": {},
   "outputs": [
    {
     "data": {
      "text/html": [
       "<div>\n",
       "<style scoped>\n",
       "    .dataframe tbody tr th:only-of-type {\n",
       "        vertical-align: middle;\n",
       "    }\n",
       "\n",
       "    .dataframe tbody tr th {\n",
       "        vertical-align: top;\n",
       "    }\n",
       "\n",
       "    .dataframe thead th {\n",
       "        text-align: right;\n",
       "    }\n",
       "</style>\n",
       "<table border=\"1\" class=\"dataframe\">\n",
       "  <thead>\n",
       "    <tr style=\"text-align: right;\">\n",
       "      <th></th>\n",
       "      <th>Text</th>\n",
       "    </tr>\n",
       "  </thead>\n",
       "  <tbody>\n",
       "    <tr>\n",
       "      <th>0</th>\n",
       "      <td>To explore more about the latest research in machine learning, you can visit https://www.mlresearch.com. The paper on deep learning can be found at https://deeplearningpapers.org. Many other related topics are covered in detail at https://ai-research.net.</td>\n",
       "    </tr>\n",
       "    <tr>\n",
       "      <th>1</th>\n",
       "      <td>Breaking news on the climate crisis can be found at https://www.climateaction.org. The new policy changes for reducing carbon emissions are discussed in depth at https://govclimatepolicy.com. For live updates, visit https://news.climatechange.org.</td>\n",
       "    </tr>\n",
       "    <tr>\n",
       "      <th>2</th>\n",
       "      <td>In my latest blog post, I talk about the top 5 travel destinations for 2025. You can read more about it at https://travelblog.com/top-destinations. Check out my other travel guides at https://travelblog.com/guides and https://wanderlust.com.</td>\n",
       "    </tr>\n",
       "    <tr>\n",
       "      <th>3</th>\n",
       "      <td>Just posted a new video on YouTube! Check it out here: https://youtube.com/watch?v=abcd1234. Follow me on Instagram at https://instagram.com/myprofile for behind-the-scenes content!</td>\n",
       "    </tr>\n",
       "    <tr>\n",
       "      <th>4</th>\n",
       "      <td>Shop the latest collection of summer dresses at https://fashionstore.com/summer-collection. Get 20% off on your first order by using the promo code at https://fashionstore.com/promo. Free shipping worldwide at https://fashionstore.com/shipping.</td>\n",
       "    </tr>\n",
       "    <tr>\n",
       "      <th>5</th>\n",
       "      <td>Enroll now for our new Python programming course at https://learnpython.com. You will have access to all resources and tutorials at https://learnpython.com/resources. Join our community at https://learnpython.com/community.</td>\n",
       "    </tr>\n",
       "    <tr>\n",
       "      <th>6</th>\n",
       "      <td>You can access the full research paper on quantum computing at https://quantumresearch.org. Additionally, the data used in this study is available at https://quantumresearch.org/data. For further reading on quantum mechanics, visit https://quantummechanics.com.</td>\n",
       "    </tr>\n",
       "    <tr>\n",
       "      <th>7</th>\n",
       "      <td>Check out this amazing recipe for vegan lasagna at https://vegandishes.com/lasagna. You can find other plant-based recipes at https://vegandishes.com/recipes. For a detailed guide on vegan meal planning, visit https://vegandishes.com/meal-plans.</td>\n",
       "    </tr>\n",
       "    <tr>\n",
       "      <th>8</th>\n",
       "      <td>For tips on improving your workout routine, visit https://fitnessguide.com/workout-tips. Learn about healthy eating habits at https://fitnessguide.com/nutrition. For a personalized fitness plan, check out https://fitnessguide.com/personalized-plans.</td>\n",
       "    </tr>\n",
       "    <tr>\n",
       "      <th>9</th>\n",
       "      <td>Read our latest review on the newest smartphone model at https://techreview.com/new-smartphone. The full specifications of the device are available at https://techreview.com/smartphone-specs. To buy the phone, visit https://techstore.com/smartphone.</td>\n",
       "    </tr>\n",
       "    <tr>\n",
       "      <th>10</th>\n",
       "      <td>Find the best books for learning data science at https://bookstore.com/data-science. You can also check out bestsellers in the tech category at https://bookstore.com/bestsellers. For reviews and ratings, visit https://bookstore.com/reviews.</td>\n",
       "    </tr>\n",
       "    <tr>\n",
       "      <th>11</th>\n",
       "      <td>Join us for the annual tech conference at https://techconference.com. Speakers and schedule details are available at https://techconference.com/speakers. Register today at https://techconference.com/register.</td>\n",
       "    </tr>\n",
       "    <tr>\n",
       "      <th>12</th>\n",
       "      <td>Looking for jobs in software development? Check out the latest opportunities at https://jobportal.com/software-jobs. To apply, visit https://jobportal.com/apply. You can also set up job alerts at https://jobportal.com/alerts.</td>\n",
       "    </tr>\n",
       "    <tr>\n",
       "      <th>13</th>\n",
       "      <td>Access free online math resources at https://mathresources.com. If you're looking for physics problems to solve, visit https://mathresources.com/physics. For interactive learning tools, go to https://mathresources.com/tools.</td>\n",
       "    </tr>\n",
       "  </tbody>\n",
       "</table>\n",
       "</div>"
      ],
      "text/plain": [
       "                                                                                                                                                                                                                                                                     Text\n",
       "0         To explore more about the latest research in machine learning, you can visit https://www.mlresearch.com. The paper on deep learning can be found at https://deeplearningpapers.org. Many other related topics are covered in detail at https://ai-research.net.\n",
       "1                 Breaking news on the climate crisis can be found at https://www.climateaction.org. The new policy changes for reducing carbon emissions are discussed in depth at https://govclimatepolicy.com. For live updates, visit https://news.climatechange.org.\n",
       "2                       In my latest blog post, I talk about the top 5 travel destinations for 2025. You can read more about it at https://travelblog.com/top-destinations. Check out my other travel guides at https://travelblog.com/guides and https://wanderlust.com.\n",
       "3                                                                                   Just posted a new video on YouTube! Check it out here: https://youtube.com/watch?v=abcd1234. Follow me on Instagram at https://instagram.com/myprofile for behind-the-scenes content!\n",
       "4                    Shop the latest collection of summer dresses at https://fashionstore.com/summer-collection. Get 20% off on your first order by using the promo code at https://fashionstore.com/promo. Free shipping worldwide at https://fashionstore.com/shipping.\n",
       "5                                         Enroll now for our new Python programming course at https://learnpython.com. You will have access to all resources and tutorials at https://learnpython.com/resources. Join our community at https://learnpython.com/community.\n",
       "6   You can access the full research paper on quantum computing at https://quantumresearch.org. Additionally, the data used in this study is available at https://quantumresearch.org/data. For further reading on quantum mechanics, visit https://quantummechanics.com.\n",
       "7                   Check out this amazing recipe for vegan lasagna at https://vegandishes.com/lasagna. You can find other plant-based recipes at https://vegandishes.com/recipes. For a detailed guide on vegan meal planning, visit https://vegandishes.com/meal-plans.\n",
       "8               For tips on improving your workout routine, visit https://fitnessguide.com/workout-tips. Learn about healthy eating habits at https://fitnessguide.com/nutrition. For a personalized fitness plan, check out https://fitnessguide.com/personalized-plans.\n",
       "9               Read our latest review on the newest smartphone model at https://techreview.com/new-smartphone. The full specifications of the device are available at https://techreview.com/smartphone-specs. To buy the phone, visit https://techstore.com/smartphone.\n",
       "10                       Find the best books for learning data science at https://bookstore.com/data-science. You can also check out bestsellers in the tech category at https://bookstore.com/bestsellers. For reviews and ratings, visit https://bookstore.com/reviews.\n",
       "11                                                       Join us for the annual tech conference at https://techconference.com. Speakers and schedule details are available at https://techconference.com/speakers. Register today at https://techconference.com/register.\n",
       "12                                      Looking for jobs in software development? Check out the latest opportunities at https://jobportal.com/software-jobs. To apply, visit https://jobportal.com/apply. You can also set up job alerts at https://jobportal.com/alerts.\n",
       "13                                       Access free online math resources at https://mathresources.com. If you're looking for physics problems to solve, visit https://mathresources.com/physics. For interactive learning tools, go to https://mathresources.com/tools."
      ]
     },
     "execution_count": 11,
     "metadata": {},
     "output_type": "execute_result"
    }
   ],
   "source": [
    "urls_data = pd.read_csv(r\"D:\\Ao\\Code\\DSc-MISC\\natural-language-processing\\X\\datasets\\urls_data.csv\",names=['Text'], header=0)\n",
    "urls_data"
   ]
  },
  {
   "cell_type": "code",
   "execution_count": 12,
   "metadata": {},
   "outputs": [
    {
     "data": {
      "text/plain": [
       "'To explore more about the latest research in machine learning, you can visit https://www.mlresearch.com. The paper on deep learning can be found at https://deeplearningpapers.org. Many other related topics are covered in detail at https://ai-research.net.'"
      ]
     },
     "execution_count": 12,
     "metadata": {},
     "output_type": "execute_result"
    }
   ],
   "source": [
    "import re \n",
    "def remove_urls(input_text):\n",
    "    pattern = r'https?://\\S+|www\\.\\S+'\n",
    "    return re.sub(pattern, '', input_text)\n",
    "    \n",
    "urls_data['Text'][0]"
   ]
  },
  {
   "cell_type": "code",
   "execution_count": 13,
   "metadata": {},
   "outputs": [
    {
     "data": {
      "text/plain": [
       "'To explore more about the latest research in machine learning, you can visit  The paper on deep learning can be found at  Many other related topics are covered in detail at '"
      ]
     },
     "execution_count": 13,
     "metadata": {},
     "output_type": "execute_result"
    }
   ],
   "source": [
    "remove_urls(urls_data['Text'][0])"
   ]
  },
  {
   "cell_type": "code",
   "execution_count": 14,
   "metadata": {},
   "outputs": [
    {
     "data": {
      "text/plain": [
       "0     To explore more about the latest research in machine learning, you can visit  The paper on deep learning can be found at  Many other related topics are covered in detail at \n",
       "1                     Breaking news on the climate crisis can be found at  The new policy changes for reducing carbon emissions are discussed in depth at  For live updates, visit \n",
       "2                             In my latest blog post, I talk about the top 5 travel destinations for 2025. You can read more about it at  Check out my other travel guides at  and \n",
       "3                                                                 Just posted a new video on YouTube! Check it out here:  Follow me on Instagram at  for behind-the-scenes content!\n",
       "4                                          Shop the latest collection of summer dresses at  Get 20% off on your first order by using the promo code at  Free shipping worldwide at \n",
       "5                                               Enroll now for our new Python programming course at  You will have access to all resources and tutorials at  Join our community at \n",
       "6       You can access the full research paper on quantum computing at  Additionally, the data used in this study is available at  For further reading on quantum mechanics, visit \n",
       "7                                Check out this amazing recipe for vegan lasagna at  You can find other plant-based recipes at  For a detailed guide on vegan meal planning, visit \n",
       "8                                              For tips on improving your workout routine, visit  Learn about healthy eating habits at  For a personalized fitness plan, check out \n",
       "9                                        Read our latest review on the newest smartphone model at  The full specifications of the device are available at  To buy the phone, visit \n",
       "10                                    Find the best books for learning data science at  You can also check out bestsellers in the tech category at  For reviews and ratings, visit \n",
       "11                                                                    Join us for the annual tech conference at  Speakers and schedule details are available at  Register today at \n",
       "12                                             Looking for jobs in software development? Check out the latest opportunities at  To apply, visit  You can also set up job alerts at \n",
       "13                                             Access free online math resources at  If you're looking for physics problems to solve, visit  For interactive learning tools, go to \n",
       "Name: Text, dtype: object"
      ]
     },
     "execution_count": 14,
     "metadata": {},
     "output_type": "execute_result"
    }
   ],
   "source": [
    "urls_data['Text'] = urls_data['Text'].apply(remove_urls)\n",
    "urls_data.Text"
   ]
  },
  {
   "cell_type": "markdown",
   "metadata": {},
   "source": [
    "4. Remove Punctuations"
   ]
  },
  {
   "cell_type": "code",
   "execution_count": 15,
   "metadata": {},
   "outputs": [
    {
     "data": {
      "text/plain": [
       "'!\"#$%&\\'()*+,-./:;<=>?@[\\\\]^_`{|}~'"
      ]
     },
     "execution_count": 15,
     "metadata": {},
     "output_type": "execute_result"
    }
   ],
   "source": [
    "import string, time\n",
    "string.punctuation"
   ]
  },
  {
   "cell_type": "code",
   "execution_count": 16,
   "metadata": {},
   "outputs": [],
   "source": [
    "exclude = string.punctuation"
   ]
  },
  {
   "cell_type": "code",
   "execution_count": 17,
   "metadata": {},
   "outputs": [],
   "source": [
    "def remove_punc(input_text):\n",
    "    for char in exclude:\n",
    "        input_text = input_text.replace(char,'')\n",
    "    return input_text"
   ]
  },
  {
   "cell_type": "code",
   "execution_count": 18,
   "metadata": {},
   "outputs": [
    {
     "data": {
      "text/html": [
       "<div>\n",
       "<style scoped>\n",
       "    .dataframe tbody tr th:only-of-type {\n",
       "        vertical-align: middle;\n",
       "    }\n",
       "\n",
       "    .dataframe tbody tr th {\n",
       "        vertical-align: top;\n",
       "    }\n",
       "\n",
       "    .dataframe thead th {\n",
       "        text-align: right;\n",
       "    }\n",
       "</style>\n",
       "<table border=\"1\" class=\"dataframe\">\n",
       "  <thead>\n",
       "    <tr style=\"text-align: right;\">\n",
       "      <th></th>\n",
       "      <th>Text</th>\n",
       "    </tr>\n",
       "  </thead>\n",
       "  <tbody>\n",
       "    <tr>\n",
       "      <th>0</th>\n",
       "      <td>Hello, world! How's everyone doing today?</td>\n",
       "    </tr>\n",
       "    <tr>\n",
       "      <th>1</th>\n",
       "      <td>I can't believe it's already March... time flies!</td>\n",
       "    </tr>\n",
       "    <tr>\n",
       "      <th>2</th>\n",
       "      <td>Python is amazing; it's a powerful programming language.</td>\n",
       "    </tr>\n",
       "    <tr>\n",
       "      <th>3</th>\n",
       "      <td>What are you waiting for? Let's go!</td>\n",
       "    </tr>\n",
       "    <tr>\n",
       "      <th>4</th>\n",
       "      <td>I love programming, especially in Python. It's my favorite language.</td>\n",
       "    </tr>\n",
       "    <tr>\n",
       "      <th>5</th>\n",
       "      <td>Do you want to build a snowman? It's going to be so much fun!</td>\n",
       "    </tr>\n",
       "    <tr>\n",
       "      <th>6</th>\n",
       "      <td>I have a meeting at 2:00 PM. Don't be late.</td>\n",
       "    </tr>\n",
       "    <tr>\n",
       "      <th>7</th>\n",
       "      <td>Can you hear me? I said, 'This is important!'</td>\n",
       "    </tr>\n",
       "    <tr>\n",
       "      <th>8</th>\n",
       "      <td>It's 2025, and technology is advancing rapidly.</td>\n",
       "    </tr>\n",
       "    <tr>\n",
       "      <th>9</th>\n",
       "      <td>Do you know the way? Where's the map? Let's find out!</td>\n",
       "    </tr>\n",
       "  </tbody>\n",
       "</table>\n",
       "</div>"
      ],
      "text/plain": [
       "                                                                   Text\n",
       "0                             Hello, world! How's everyone doing today?\n",
       "1                     I can't believe it's already March... time flies!\n",
       "2              Python is amazing; it's a powerful programming language.\n",
       "3                                   What are you waiting for? Let's go!\n",
       "4  I love programming, especially in Python. It's my favorite language.\n",
       "5         Do you want to build a snowman? It's going to be so much fun!\n",
       "6                           I have a meeting at 2:00 PM. Don't be late.\n",
       "7                         Can you hear me? I said, 'This is important!'\n",
       "8                       It's 2025, and technology is advancing rapidly.\n",
       "9                 Do you know the way? Where's the map? Let's find out!"
      ]
     },
     "execution_count": 18,
     "metadata": {},
     "output_type": "execute_result"
    }
   ],
   "source": [
    "punc_data = pd.read_csv(r\"D:\\Ao\\Code\\DSc-MISC\\natural-language-processing\\X\\datasets\\punctuations.csv\", names=['Text'], header=0)\n",
    "punc_data"
   ]
  },
  {
   "cell_type": "code",
   "execution_count": 19,
   "metadata": {},
   "outputs": [
    {
     "data": {
      "text/html": [
       "<div>\n",
       "<style scoped>\n",
       "    .dataframe tbody tr th:only-of-type {\n",
       "        vertical-align: middle;\n",
       "    }\n",
       "\n",
       "    .dataframe tbody tr th {\n",
       "        vertical-align: top;\n",
       "    }\n",
       "\n",
       "    .dataframe thead th {\n",
       "        text-align: right;\n",
       "    }\n",
       "</style>\n",
       "<table border=\"1\" class=\"dataframe\">\n",
       "  <thead>\n",
       "    <tr style=\"text-align: right;\">\n",
       "      <th></th>\n",
       "      <th>Text</th>\n",
       "    </tr>\n",
       "  </thead>\n",
       "  <tbody>\n",
       "    <tr>\n",
       "      <th>0</th>\n",
       "      <td>Hello world Hows everyone doing today</td>\n",
       "    </tr>\n",
       "    <tr>\n",
       "      <th>1</th>\n",
       "      <td>I cant believe its already March time flies</td>\n",
       "    </tr>\n",
       "    <tr>\n",
       "      <th>2</th>\n",
       "      <td>Python is amazing its a powerful programming language</td>\n",
       "    </tr>\n",
       "    <tr>\n",
       "      <th>3</th>\n",
       "      <td>What are you waiting for Lets go</td>\n",
       "    </tr>\n",
       "    <tr>\n",
       "      <th>4</th>\n",
       "      <td>I love programming especially in Python Its my favorite language</td>\n",
       "    </tr>\n",
       "    <tr>\n",
       "      <th>5</th>\n",
       "      <td>Do you want to build a snowman Its going to be so much fun</td>\n",
       "    </tr>\n",
       "    <tr>\n",
       "      <th>6</th>\n",
       "      <td>I have a meeting at 200 PM Dont be late</td>\n",
       "    </tr>\n",
       "    <tr>\n",
       "      <th>7</th>\n",
       "      <td>Can you hear me I said This is important</td>\n",
       "    </tr>\n",
       "    <tr>\n",
       "      <th>8</th>\n",
       "      <td>Its 2025 and technology is advancing rapidly</td>\n",
       "    </tr>\n",
       "    <tr>\n",
       "      <th>9</th>\n",
       "      <td>Do you know the way Wheres the map Lets find out</td>\n",
       "    </tr>\n",
       "  </tbody>\n",
       "</table>\n",
       "</div>"
      ],
      "text/plain": [
       "                                                               Text\n",
       "0                             Hello world Hows everyone doing today\n",
       "1                       I cant believe its already March time flies\n",
       "2             Python is amazing its a powerful programming language\n",
       "3                                  What are you waiting for Lets go\n",
       "4  I love programming especially in Python Its my favorite language\n",
       "5        Do you want to build a snowman Its going to be so much fun\n",
       "6                           I have a meeting at 200 PM Dont be late\n",
       "7                          Can you hear me I said This is important\n",
       "8                      Its 2025 and technology is advancing rapidly\n",
       "9                  Do you know the way Wheres the map Lets find out"
      ]
     },
     "execution_count": 19,
     "metadata": {},
     "output_type": "execute_result"
    }
   ],
   "source": [
    "punc_data['Text'] = punc_data['Text'].apply(remove_punc)\n",
    "punc_data"
   ]
  },
  {
   "cell_type": "code",
   "execution_count": 20,
   "metadata": {},
   "outputs": [
    {
     "data": {
      "text/plain": [
       "0.0012004375457763672"
      ]
     },
     "execution_count": 20,
     "metadata": {},
     "output_type": "execute_result"
    }
   ],
   "source": [
    "import gc \n",
    "gc.collect() \n",
    "\n",
    "start = time.time()\n",
    "remove_punc(punc_data['Text'])\n",
    "time.time() - start"
   ]
  },
  {
   "cell_type": "code",
   "execution_count": 21,
   "metadata": {},
   "outputs": [],
   "source": [
    "def remove_punc_trans(input_text):\n",
    "    exclude = string.punctuation\n",
    "    return input_text.str.translate(str.maketrans('', '', exclude))"
   ]
  },
  {
   "cell_type": "code",
   "execution_count": 22,
   "metadata": {},
   "outputs": [
    {
     "data": {
      "text/plain": [
       "0.00772857666015625"
      ]
     },
     "execution_count": 22,
     "metadata": {},
     "output_type": "execute_result"
    }
   ],
   "source": [
    "start = time.time()\n",
    "remove_punc_trans(punc_data['Text'])\n",
    "time.time() - start"
   ]
  },
  {
   "cell_type": "code",
   "execution_count": 23,
   "metadata": {},
   "outputs": [
    {
     "name": "stdout",
     "output_type": "stream",
     "text": [
      "Run 1: 0.005398750305175781 seconds\n",
      "Run 2: 0.00583195686340332 seconds\n",
      "Run 3: 0.006592988967895508 seconds\n",
      "Run 4: 0.004151344299316406 seconds\n",
      "Run 5: 0.004015684127807617 seconds\n"
     ]
    }
   ],
   "source": [
    "import time\n",
    "\n",
    "# Run multiple times and print the individual times\n",
    "for i in range(5):\n",
    "    start = time.time()\n",
    "    remove_punc(punc_data['Text'])\n",
    "    end = time.time()\n",
    "    print(f\"Run {i + 1}: {end - start} seconds\")\n",
    "\n",
    "# Same data but diff time 😳😐🤔\n"
   ]
  },
  {
   "cell_type": "markdown",
   "metadata": {},
   "source": [
    "5. Chat Word Treatment\n",
    "    - ASAP: As Soon as possible\n",
    "    - ATK: At the keyboard\n",
    "    - ATM: At the moment\n",
    "    - CU: See you\n",
    "    \n",
    "Source: https://github.com/rishabhverma17/sms_slang_translator/blob/master/slang.txt"
   ]
  },
  {
   "cell_type": "code",
   "execution_count": 24,
   "metadata": {},
   "outputs": [
    {
     "data": {
      "text/plain": [
       "['AFAIK=As Far As I Know',\n",
       " 'AFK=Away From Keyboard',\n",
       " 'ASAP=As Soon As Possible',\n",
       " 'ATK=At The Keyboard',\n",
       " 'ATM=At The Moment',\n",
       " 'A3=Anytime, Anywhere, Anyplace',\n",
       " 'BAK=Back At Keyboard',\n",
       " 'BBL=Be Back Later',\n",
       " 'BBS=Be Back Soon',\n",
       " 'BFN=Bye For Now',\n",
       " 'B4N=Bye For Now',\n",
       " 'BRB=Be Right Back',\n",
       " 'BRT=Be Right There',\n",
       " 'BTW=By The Way',\n",
       " 'B4=Before',\n",
       " 'B4N=Bye For Now',\n",
       " 'CU=See You',\n",
       " 'CUL8R=See You Later',\n",
       " 'CYA=See You',\n",
       " 'FAQ=Frequently Asked Questions',\n",
       " 'FC=Fingers Crossed',\n",
       " \"FWIW=For What It's Worth\",\n",
       " 'FYI=For Your Information',\n",
       " 'GAL=Get A Life',\n",
       " 'GG=Good Game',\n",
       " 'GN=Good Night',\n",
       " 'GMTA=Great Minds Think Alike',\n",
       " 'GR8=Great!',\n",
       " 'G9=Genius',\n",
       " 'IC=I See',\n",
       " 'ICQ=I Seek you (also a chat program)',\n",
       " 'ILU=ILU: I Love You',\n",
       " 'IMHO=In My Honest/Humble Opinion',\n",
       " 'IMO=In My Opinion',\n",
       " 'IOW=In Other Words',\n",
       " 'IRL=In Real Life',\n",
       " 'KISS=Keep It Simple, Stupid',\n",
       " 'LDR=Long Distance Relationship',\n",
       " 'LMAO=Laugh My A.. Off',\n",
       " 'LOL=Laughing Out Loud',\n",
       " 'LTNS=Long Time No See',\n",
       " 'L8R=Later',\n",
       " 'MTE=My Thoughts Exactly',\n",
       " 'M8=Mate',\n",
       " 'NRN=No Reply Necessary',\n",
       " 'OIC=Oh I See',\n",
       " 'PITA=Pain In The A..',\n",
       " 'PRT=Party',\n",
       " 'PRW=Parents Are Watching',\n",
       " 'QPSA?\\tQue Pasa?',\n",
       " 'ROFL=Rolling On The Floor Laughing',\n",
       " 'ROFLOL=Rolling On The Floor Laughing Out Loud',\n",
       " 'ROTFLMAO=Rolling On The Floor Laughing My A.. Off',\n",
       " 'SK8=Skate',\n",
       " 'STATS=Your sex and age',\n",
       " 'ASL=Age, Sex, Location',\n",
       " 'THX=Thank You',\n",
       " 'TTFN=Ta-Ta For Now!',\n",
       " 'TTYL=Talk To You Later',\n",
       " 'U=You',\n",
       " 'U2=You Too',\n",
       " 'U4E=Yours For Ever',\n",
       " 'WB=Welcome Back',\n",
       " 'WTF=What The F...',\n",
       " 'WTG=Way To Go!',\n",
       " 'WUF=Where Are You From?',\n",
       " 'W8=Wait...',\n",
       " '7K=Sick:-D Laugher',\n",
       " 'TFW=That feeling when. TFW internet slang often goes in a caption to an image.',\n",
       " 'MFW=My face when',\n",
       " 'MRW=My reaction when',\n",
       " 'IFYP=I feel your pain',\n",
       " 'LOL=Laughing out loud',\n",
       " 'TNTL=Trying not to laugh',\n",
       " 'JK=Just kidding',\n",
       " 'IDC=I don’t care',\n",
       " 'ILY=I love you',\n",
       " 'IMU=I miss you',\n",
       " 'ADIH=Another day in hell',\n",
       " 'IDC=I don’t care',\n",
       " 'ZZZ=Sleeping, bored, tired',\n",
       " 'WYWH=Wish you were here',\n",
       " 'TIME=Tears in my eyes',\n",
       " 'BAE=Before anyone else',\n",
       " 'FIMH=Forever in my heart',\n",
       " 'BSAAW=Big smile and a wink',\n",
       " 'BWL=Bursting with laughter',\n",
       " 'LMAO=Laughing my a** off',\n",
       " 'BFF=Best friends forever',\n",
       " 'CSL=Can’t stop laughing']"
      ]
     },
     "execution_count": 24,
     "metadata": {},
     "output_type": "execute_result"
    }
   ],
   "source": [
    "with open(r'D:\\Ao\\Code\\DSc-MISC\\natural-language-processing\\X\\datasets\\slang.txt', 'r', encoding='utf-8') as file:\n",
    "    f = file.read()\n",
    "    slangs = f.splitlines()\n",
    "        \n",
    "slangs"
   ]
  },
  {
   "cell_type": "code",
   "execution_count": 25,
   "metadata": {},
   "outputs": [
    {
     "data": {
      "text/plain": [
       "90"
      ]
     },
     "execution_count": 25,
     "metadata": {},
     "output_type": "execute_result"
    }
   ],
   "source": [
    "len(slangs)"
   ]
  },
  {
   "cell_type": "code",
   "execution_count": 26,
   "metadata": {},
   "outputs": [
    {
     "data": {
      "text/plain": [
       "['CSL', 'Can’t stop laughing']"
      ]
     },
     "execution_count": 26,
     "metadata": {},
     "output_type": "execute_result"
    }
   ],
   "source": [
    "re.split(r'=', slangs[-1])"
   ]
  },
  {
   "cell_type": "code",
   "execution_count": 27,
   "metadata": {},
   "outputs": [
    {
     "data": {
      "text/plain": [
       "['CSL', 'Can’t stop laughing']"
      ]
     },
     "execution_count": 27,
     "metadata": {},
     "output_type": "execute_result"
    }
   ],
   "source": [
    "re.split(r'=', slangs[-1], maxsplit=1)\n",
    "# maxsplit: in case of multiple \"=\" it will split on the 1"
   ]
  },
  {
   "cell_type": "code",
   "execution_count": 28,
   "metadata": {},
   "outputs": [
    {
     "name": "stdout",
     "output_type": "stream",
     "text": [
      "not enough values to unpack (expected 2, got 1)\n"
     ]
    },
    {
     "data": {
      "text/plain": [
       "{'AFAIK': 'As Far As I Know',\n",
       " 'AFK': 'Away From Keyboard',\n",
       " 'ASAP': 'As Soon As Possible',\n",
       " 'ATK': 'At The Keyboard',\n",
       " 'ATM': 'At The Moment',\n",
       " 'A3': 'Anytime, Anywhere, Anyplace',\n",
       " 'BAK': 'Back At Keyboard',\n",
       " 'BBL': 'Be Back Later',\n",
       " 'BBS': 'Be Back Soon',\n",
       " 'BFN': 'Bye For Now',\n",
       " 'B4N': 'Bye For Now',\n",
       " 'BRB': 'Be Right Back',\n",
       " 'BRT': 'Be Right There',\n",
       " 'BTW': 'By The Way',\n",
       " 'B4': 'Before',\n",
       " 'CU': 'See You',\n",
       " 'CUL8R': 'See You Later',\n",
       " 'CYA': 'See You',\n",
       " 'FAQ': 'Frequently Asked Questions',\n",
       " 'FC': 'Fingers Crossed',\n",
       " 'FWIW': \"For What It's Worth\",\n",
       " 'FYI': 'For Your Information',\n",
       " 'GAL': 'Get A Life',\n",
       " 'GG': 'Good Game',\n",
       " 'GN': 'Good Night',\n",
       " 'GMTA': 'Great Minds Think Alike',\n",
       " 'GR8': 'Great!',\n",
       " 'G9': 'Genius',\n",
       " 'IC': 'I See',\n",
       " 'ICQ': 'I Seek you (also a chat program)',\n",
       " 'ILU': 'ILU: I Love You',\n",
       " 'IMHO': 'In My Honest/Humble Opinion',\n",
       " 'IMO': 'In My Opinion',\n",
       " 'IOW': 'In Other Words',\n",
       " 'IRL': 'In Real Life',\n",
       " 'KISS': 'Keep It Simple, Stupid',\n",
       " 'LDR': 'Long Distance Relationship',\n",
       " 'LMAO': 'Laughing my a** off',\n",
       " 'LOL': 'Laughing out loud',\n",
       " 'LTNS': 'Long Time No See',\n",
       " 'L8R': 'Later',\n",
       " 'MTE': 'My Thoughts Exactly',\n",
       " 'M8': 'Mate',\n",
       " 'NRN': 'No Reply Necessary',\n",
       " 'OIC': 'Oh I See',\n",
       " 'PITA': 'Pain In The A..',\n",
       " 'PRT': 'Party',\n",
       " 'PRW': 'Parents Are Watching',\n",
       " 'ROFL': 'Rolling On The Floor Laughing',\n",
       " 'ROFLOL': 'Rolling On The Floor Laughing Out Loud',\n",
       " 'ROTFLMAO': 'Rolling On The Floor Laughing My A.. Off',\n",
       " 'SK8': 'Skate',\n",
       " 'STATS': 'Your sex and age',\n",
       " 'ASL': 'Age, Sex, Location',\n",
       " 'THX': 'Thank You',\n",
       " 'TTFN': 'Ta-Ta For Now!',\n",
       " 'TTYL': 'Talk To You Later',\n",
       " 'U': 'You',\n",
       " 'U2': 'You Too',\n",
       " 'U4E': 'Yours For Ever',\n",
       " 'WB': 'Welcome Back',\n",
       " 'WTF': 'What The F...',\n",
       " 'WTG': 'Way To Go!',\n",
       " 'WUF': 'Where Are You From?',\n",
       " 'W8': 'Wait...',\n",
       " '7K': 'Sick:-D Laugher',\n",
       " 'TFW': 'That feeling when. TFW internet slang often goes in a caption to an image.',\n",
       " 'MFW': 'My face when',\n",
       " 'MRW': 'My reaction when',\n",
       " 'IFYP': 'I feel your pain',\n",
       " 'TNTL': 'Trying not to laugh',\n",
       " 'JK': 'Just kidding',\n",
       " 'IDC': 'I don’t care',\n",
       " 'ILY': 'I love you',\n",
       " 'IMU': 'I miss you',\n",
       " 'ADIH': 'Another day in hell',\n",
       " 'ZZZ': 'Sleeping, bored, tired',\n",
       " 'WYWH': 'Wish you were here',\n",
       " 'TIME': 'Tears in my eyes',\n",
       " 'BAE': 'Before anyone else',\n",
       " 'FIMH': 'Forever in my heart',\n",
       " 'BSAAW': 'Big smile and a wink',\n",
       " 'BWL': 'Bursting with laughter',\n",
       " 'BFF': 'Best friends forever',\n",
       " 'CSL': 'Can’t stop laughing'}"
      ]
     },
     "execution_count": 28,
     "metadata": {},
     "output_type": "execute_result"
    }
   ],
   "source": [
    "import re \n",
    "\n",
    "chat_words = dict()\n",
    "\n",
    "for slang in slangs:\n",
    "    try:\n",
    "        key, value = re.split(r'=', slang)\n",
    "        chat_words[key] = value\n",
    "    except Exception as e:\n",
    "        print(e)\n",
    "    \n",
    "chat_words"
   ]
  },
  {
   "cell_type": "code",
   "execution_count": 29,
   "metadata": {},
   "outputs": [
    {
     "data": {
      "text/plain": [
       "85"
      ]
     },
     "execution_count": 29,
     "metadata": {},
     "output_type": "execute_result"
    }
   ],
   "source": [
    "len(chat_words)"
   ]
  },
  {
   "cell_type": "code",
   "execution_count": 30,
   "metadata": {},
   "outputs": [],
   "source": [
    "def chat_conversation(input_text):\n",
    "    new_text = []\n",
    "    for word in input_text.split():\n",
    "        if word.upper() in chat_words:\n",
    "            new_text.append(chat_words[word.upper()])\n",
    "        else:\n",
    "            new_text.append(word)\n",
    "    return \" \".join(new_text)"
   ]
  },
  {
   "cell_type": "code",
   "execution_count": 31,
   "metadata": {},
   "outputs": [
    {
     "data": {
      "text/plain": [
       "'What The F... are you doing man...'"
      ]
     },
     "execution_count": 31,
     "metadata": {},
     "output_type": "execute_result"
    }
   ],
   "source": [
    "chat_conversation(\"WTF are you doing man...\")"
   ]
  },
  {
   "cell_type": "code",
   "execution_count": 32,
   "metadata": {},
   "outputs": [
    {
     "data": {
      "text/plain": [
       "\"I'll call you later Parents Are Watching\""
      ]
     },
     "execution_count": 32,
     "metadata": {},
     "output_type": "execute_result"
    }
   ],
   "source": [
    "chat_conversation(\"I'll call you later PRW\")"
   ]
  },
  {
   "cell_type": "code",
   "execution_count": 33,
   "metadata": {},
   "outputs": [
    {
     "data": {
      "text/plain": [
       "'Are you 7K?'"
      ]
     },
     "execution_count": 33,
     "metadata": {},
     "output_type": "execute_result"
    }
   ],
   "source": [
    "chat_conversation(\"Are you 7K?\")"
   ]
  },
  {
   "cell_type": "code",
   "execution_count": 34,
   "metadata": {},
   "outputs": [
    {
     "data": {
      "text/plain": [
       "'Are you Sick:-D Laugher ?'"
      ]
     },
     "execution_count": 34,
     "metadata": {},
     "output_type": "execute_result"
    }
   ],
   "source": [
    "chat_conversation(\"Are you 7K ?\")"
   ]
  },
  {
   "cell_type": "code",
   "execution_count": 35,
   "metadata": {},
   "outputs": [],
   "source": [
    "# import pandas as pd\n",
    "\n",
    "# # Reset display options to default\n",
    "# pd.reset_option('display.max_columns')\n",
    "# pd.reset_option('display.max_rows')\n",
    "# pd.reset_option('display.max_colwidth')\n",
    "# pd.reset_option('display.width')\n"
   ]
  },
  {
   "cell_type": "markdown",
   "metadata": {},
   "source": [
    "6. Spelling Correction"
   ]
  },
  {
   "cell_type": "code",
   "execution_count": 36,
   "metadata": {},
   "outputs": [
    {
     "data": {
      "text/html": [
       "<div>\n",
       "<style scoped>\n",
       "    .dataframe tbody tr th:only-of-type {\n",
       "        vertical-align: middle;\n",
       "    }\n",
       "\n",
       "    .dataframe tbody tr th {\n",
       "        vertical-align: top;\n",
       "    }\n",
       "\n",
       "    .dataframe thead th {\n",
       "        text-align: right;\n",
       "    }\n",
       "</style>\n",
       "<table border=\"1\" class=\"dataframe\">\n",
       "  <thead>\n",
       "    <tr style=\"text-align: right;\">\n",
       "      <th></th>\n",
       "      <th>misspelled</th>\n",
       "      <th>correct</th>\n",
       "    </tr>\n",
       "  </thead>\n",
       "  <tbody>\n",
       "    <tr>\n",
       "      <th>0</th>\n",
       "      <td>I will definately recieve your email soon.</td>\n",
       "      <td>I will definitely receive your email soon.</td>\n",
       "    </tr>\n",
       "    <tr>\n",
       "      <th>1</th>\n",
       "      <td>He could of gone to the park but he didnt.</td>\n",
       "      <td>He could have gone to the park but he didn’t.</td>\n",
       "    </tr>\n",
       "    <tr>\n",
       "      <th>2</th>\n",
       "      <td>She didnt know how to accomodate the guest.</td>\n",
       "      <td>She didn’t know how to accommodate the guest.</td>\n",
       "    </tr>\n",
       "    <tr>\n",
       "      <th>3</th>\n",
       "      <td>They went to the park tommorow.</td>\n",
       "      <td>They went to the park tomorrow.</td>\n",
       "    </tr>\n",
       "    <tr>\n",
       "      <th>4</th>\n",
       "      <td>We should meet at teh restaurant later.</td>\n",
       "      <td>We should meet at the restaurant later.</td>\n",
       "    </tr>\n",
       "    <tr>\n",
       "      <th>5</th>\n",
       "      <td>Their is a lot of people here.</td>\n",
       "      <td>There is a lot of people here.</td>\n",
       "    </tr>\n",
       "    <tr>\n",
       "      <th>6</th>\n",
       "      <td>I hope its going to be a nice day.</td>\n",
       "      <td>I hope it's going to be a nice day.</td>\n",
       "    </tr>\n",
       "    <tr>\n",
       "      <th>7</th>\n",
       "      <td>The teacher gave us a fucntion to solve.</td>\n",
       "      <td>The teacher gave us a function to solve.</td>\n",
       "    </tr>\n",
       "    <tr>\n",
       "      <th>8</th>\n",
       "      <td>He was writing a letter when his pen broke.</td>\n",
       "      <td>He was writing a letter when his pen broke.</td>\n",
       "    </tr>\n",
       "    <tr>\n",
       "      <th>9</th>\n",
       "      <td>She always gets confused between 'there' and 'their'.</td>\n",
       "      <td>She always gets confused between 'there' and 'their'.</td>\n",
       "    </tr>\n",
       "    <tr>\n",
       "      <th>10</th>\n",
       "      <td>The new restaurant is called 'Gogle'.</td>\n",
       "      <td>The new restaurant is called 'Google'.</td>\n",
       "    </tr>\n",
       "    <tr>\n",
       "      <th>11</th>\n",
       "      <td>It was a classic mistake to make.</td>\n",
       "      <td>It was a classic mistake to make.</td>\n",
       "    </tr>\n",
       "    <tr>\n",
       "      <th>12</th>\n",
       "      <td>She will recieve the prize for winning the competition.</td>\n",
       "      <td>She will receive the prize for winning the competition.</td>\n",
       "    </tr>\n",
       "    <tr>\n",
       "      <th>13</th>\n",
       "      <td>I am going too the store for some milk.</td>\n",
       "      <td>I am going to the store for some milk.</td>\n",
       "    </tr>\n",
       "    <tr>\n",
       "      <th>14</th>\n",
       "      <td>The children are playing in the park, adn they are happy.</td>\n",
       "      <td>The children are playing in the park, and they are happy.</td>\n",
       "    </tr>\n",
       "    <tr>\n",
       "      <th>15</th>\n",
       "      <td>The team will meet tommorow to discuss the project.</td>\n",
       "      <td>The team will meet tomorrow to discuss the project.</td>\n",
       "    </tr>\n",
       "    <tr>\n",
       "      <th>16</th>\n",
       "      <td>He is not sure if he can come, but we areb hopeful.</td>\n",
       "      <td>He is not sure if he can come, but we are hopeful.</td>\n",
       "    </tr>\n",
       "    <tr>\n",
       "      <th>17</th>\n",
       "      <td>She loves to write, but sometimes she struggles with spelling.</td>\n",
       "      <td>She loves to write, but sometimes she struggles with spelling.</td>\n",
       "    </tr>\n",
       "    <tr>\n",
       "      <th>18</th>\n",
       "      <td>I have to go back too my office to pick up some papers.</td>\n",
       "      <td>I have to go back to my office to pick up some papers.</td>\n",
       "    </tr>\n",
       "  </tbody>\n",
       "</table>\n",
       "</div>"
      ],
      "text/plain": [
       "                                                        misspelled  \\\n",
       "0                       I will definately recieve your email soon.   \n",
       "1                       He could of gone to the park but he didnt.   \n",
       "2                      She didnt know how to accomodate the guest.   \n",
       "3                                  They went to the park tommorow.   \n",
       "4                          We should meet at teh restaurant later.   \n",
       "5                                   Their is a lot of people here.   \n",
       "6                               I hope its going to be a nice day.   \n",
       "7                         The teacher gave us a fucntion to solve.   \n",
       "8                      He was writing a letter when his pen broke.   \n",
       "9            She always gets confused between 'there' and 'their'.   \n",
       "10                           The new restaurant is called 'Gogle'.   \n",
       "11                               It was a classic mistake to make.   \n",
       "12         She will recieve the prize for winning the competition.   \n",
       "13                         I am going too the store for some milk.   \n",
       "14       The children are playing in the park, adn they are happy.   \n",
       "15             The team will meet tommorow to discuss the project.   \n",
       "16             He is not sure if he can come, but we areb hopeful.   \n",
       "17  She loves to write, but sometimes she struggles with spelling.   \n",
       "18         I have to go back too my office to pick up some papers.   \n",
       "\n",
       "                                                           correct  \n",
       "0                       I will definitely receive your email soon.  \n",
       "1                    He could have gone to the park but he didn’t.  \n",
       "2                    She didn’t know how to accommodate the guest.  \n",
       "3                                  They went to the park tomorrow.  \n",
       "4                          We should meet at the restaurant later.  \n",
       "5                                   There is a lot of people here.  \n",
       "6                              I hope it's going to be a nice day.  \n",
       "7                         The teacher gave us a function to solve.  \n",
       "8                      He was writing a letter when his pen broke.  \n",
       "9            She always gets confused between 'there' and 'their'.  \n",
       "10                          The new restaurant is called 'Google'.  \n",
       "11                               It was a classic mistake to make.  \n",
       "12         She will receive the prize for winning the competition.  \n",
       "13                          I am going to the store for some milk.  \n",
       "14       The children are playing in the park, and they are happy.  \n",
       "15             The team will meet tomorrow to discuss the project.  \n",
       "16              He is not sure if he can come, but we are hopeful.  \n",
       "17  She loves to write, but sometimes she struggles with spelling.  \n",
       "18          I have to go back to my office to pick up some papers.  "
      ]
     },
     "execution_count": 36,
     "metadata": {},
     "output_type": "execute_result"
    }
   ],
   "source": [
    "misspelled = pd.read_csv(r\"D:\\Ao\\Code\\DSc-MISC\\natural-language-processing\\X\\datasets\\misspelled.csv\", usecols=['misspelled','correct'])\n",
    "misspelled"
   ]
  },
  {
   "cell_type": "code",
   "execution_count": 37,
   "metadata": {},
   "outputs": [
    {
     "data": {
      "text/plain": [
       "'I have to go back too my office to pick up some papers.'"
      ]
     },
     "execution_count": 37,
     "metadata": {},
     "output_type": "execute_result"
    }
   ],
   "source": [
    "from textblob import TextBlob \n",
    "\n",
    "textblb = TextBlob(misspelled['misspelled'][18])\n",
    "\n",
    "textblb.correct().string\n"
   ]
  },
  {
   "cell_type": "code",
   "execution_count": 38,
   "metadata": {},
   "outputs": [
    {
     "data": {
      "text/html": [
       "<div>\n",
       "<style scoped>\n",
       "    .dataframe tbody tr th:only-of-type {\n",
       "        vertical-align: middle;\n",
       "    }\n",
       "\n",
       "    .dataframe tbody tr th {\n",
       "        vertical-align: top;\n",
       "    }\n",
       "\n",
       "    .dataframe thead th {\n",
       "        text-align: right;\n",
       "    }\n",
       "</style>\n",
       "<table border=\"1\" class=\"dataframe\">\n",
       "  <thead>\n",
       "    <tr style=\"text-align: right;\">\n",
       "      <th></th>\n",
       "      <th>misspelled</th>\n",
       "      <th>corrected</th>\n",
       "    </tr>\n",
       "  </thead>\n",
       "  <tbody>\n",
       "    <tr>\n",
       "      <th>0</th>\n",
       "      <td>I will definately recieve your email soon.</td>\n",
       "      <td>I will definitely receive your email soon.</td>\n",
       "    </tr>\n",
       "    <tr>\n",
       "      <th>1</th>\n",
       "      <td>He could of gone to the park but he didnt.</td>\n",
       "      <td>He could of gone to the park but he didn.</td>\n",
       "    </tr>\n",
       "    <tr>\n",
       "      <th>2</th>\n",
       "      <td>She didnt know how to accomodate the guest.</td>\n",
       "      <td>The didn know how to accommodate the guest.</td>\n",
       "    </tr>\n",
       "    <tr>\n",
       "      <th>3</th>\n",
       "      <td>They went to the park tommorow.</td>\n",
       "      <td>They went to the park tomorrow.</td>\n",
       "    </tr>\n",
       "    <tr>\n",
       "      <th>4</th>\n",
       "      <td>We should meet at teh restaurant later.</td>\n",
       "      <td>He should meet at the restaurant later.</td>\n",
       "    </tr>\n",
       "    <tr>\n",
       "      <th>5</th>\n",
       "      <td>Their is a lot of people here.</td>\n",
       "      <td>Their is a lot of people here.</td>\n",
       "    </tr>\n",
       "    <tr>\n",
       "      <th>6</th>\n",
       "      <td>I hope its going to be a nice day.</td>\n",
       "      <td>I hope its going to be a nice day.</td>\n",
       "    </tr>\n",
       "    <tr>\n",
       "      <th>7</th>\n",
       "      <td>The teacher gave us a fucntion to solve.</td>\n",
       "      <td>The teacher gave us a function to solve.</td>\n",
       "    </tr>\n",
       "    <tr>\n",
       "      <th>8</th>\n",
       "      <td>He was writing a letter when his pen broke.</td>\n",
       "      <td>He was writing a letter when his pen broke.</td>\n",
       "    </tr>\n",
       "    <tr>\n",
       "      <th>9</th>\n",
       "      <td>She always gets confused between 'there' and 'their'.</td>\n",
       "      <td>The always gets confused between 'there' and 'their'.</td>\n",
       "    </tr>\n",
       "    <tr>\n",
       "      <th>10</th>\n",
       "      <td>The new restaurant is called 'Gogle'.</td>\n",
       "      <td>The new restaurant is called 'Sole'.</td>\n",
       "    </tr>\n",
       "    <tr>\n",
       "      <th>11</th>\n",
       "      <td>It was a classic mistake to make.</td>\n",
       "      <td>It was a classic mistake to make.</td>\n",
       "    </tr>\n",
       "    <tr>\n",
       "      <th>12</th>\n",
       "      <td>She will recieve the prize for winning the competition.</td>\n",
       "      <td>The will receive the prize for winning the competition.</td>\n",
       "    </tr>\n",
       "    <tr>\n",
       "      <th>13</th>\n",
       "      <td>I am going too the store for some milk.</td>\n",
       "      <td>I am going too the store for some milk.</td>\n",
       "    </tr>\n",
       "    <tr>\n",
       "      <th>14</th>\n",
       "      <td>The children are playing in the park, adn they are happy.</td>\n",
       "      <td>The children are playing in the park, and they are happy.</td>\n",
       "    </tr>\n",
       "    <tr>\n",
       "      <th>15</th>\n",
       "      <td>The team will meet tommorow to discuss the project.</td>\n",
       "      <td>The team will meet tomorrow to discuss the project.</td>\n",
       "    </tr>\n",
       "    <tr>\n",
       "      <th>16</th>\n",
       "      <td>He is not sure if he can come, but we areb hopeful.</td>\n",
       "      <td>He is not sure if he can come, but we are hopeful.</td>\n",
       "    </tr>\n",
       "    <tr>\n",
       "      <th>17</th>\n",
       "      <td>She loves to write, but sometimes she struggles with spelling.</td>\n",
       "      <td>The loves to write, but sometimes she struggles with spelling.</td>\n",
       "    </tr>\n",
       "    <tr>\n",
       "      <th>18</th>\n",
       "      <td>I have to go back too my office to pick up some papers.</td>\n",
       "      <td>I have to go back too my office to pick up some papers.</td>\n",
       "    </tr>\n",
       "  </tbody>\n",
       "</table>\n",
       "</div>"
      ],
      "text/plain": [
       "                                                        misspelled  \\\n",
       "0                       I will definately recieve your email soon.   \n",
       "1                       He could of gone to the park but he didnt.   \n",
       "2                      She didnt know how to accomodate the guest.   \n",
       "3                                  They went to the park tommorow.   \n",
       "4                          We should meet at teh restaurant later.   \n",
       "5                                   Their is a lot of people here.   \n",
       "6                               I hope its going to be a nice day.   \n",
       "7                         The teacher gave us a fucntion to solve.   \n",
       "8                      He was writing a letter when his pen broke.   \n",
       "9            She always gets confused between 'there' and 'their'.   \n",
       "10                           The new restaurant is called 'Gogle'.   \n",
       "11                               It was a classic mistake to make.   \n",
       "12         She will recieve the prize for winning the competition.   \n",
       "13                         I am going too the store for some milk.   \n",
       "14       The children are playing in the park, adn they are happy.   \n",
       "15             The team will meet tommorow to discuss the project.   \n",
       "16             He is not sure if he can come, but we areb hopeful.   \n",
       "17  She loves to write, but sometimes she struggles with spelling.   \n",
       "18         I have to go back too my office to pick up some papers.   \n",
       "\n",
       "                                                         corrected  \n",
       "0                       I will definitely receive your email soon.  \n",
       "1                        He could of gone to the park but he didn.  \n",
       "2                      The didn know how to accommodate the guest.  \n",
       "3                                  They went to the park tomorrow.  \n",
       "4                          He should meet at the restaurant later.  \n",
       "5                                   Their is a lot of people here.  \n",
       "6                               I hope its going to be a nice day.  \n",
       "7                         The teacher gave us a function to solve.  \n",
       "8                      He was writing a letter when his pen broke.  \n",
       "9            The always gets confused between 'there' and 'their'.  \n",
       "10                            The new restaurant is called 'Sole'.  \n",
       "11                               It was a classic mistake to make.  \n",
       "12         The will receive the prize for winning the competition.  \n",
       "13                         I am going too the store for some milk.  \n",
       "14       The children are playing in the park, and they are happy.  \n",
       "15             The team will meet tomorrow to discuss the project.  \n",
       "16              He is not sure if he can come, but we are hopeful.  \n",
       "17  The loves to write, but sometimes she struggles with spelling.  \n",
       "18         I have to go back too my office to pick up some papers.  "
      ]
     },
     "execution_count": 38,
     "metadata": {},
     "output_type": "execute_result"
    }
   ],
   "source": [
    "# Function to correct sentences using TextBlob\n",
    "def correct_with_textblob(sentence):\n",
    "    blob = TextBlob(sentence)\n",
    "    return str(blob.correct())  # Corrects the sentence and returns it as a string\n",
    "\n",
    "# Apply the TextBlob correction function\n",
    "misspelled['corrected'] = misspelled['misspelled'].apply(correct_with_textblob)\n",
    "\n",
    "# Display the corrected DataFrame\n",
    "misspelled[['misspelled', 'corrected']]"
   ]
  },
  {
   "cell_type": "markdown",
   "metadata": {},
   "source": [
    "7. Stop Words Removal"
   ]
  },
  {
   "cell_type": "code",
   "execution_count": 39,
   "metadata": {},
   "outputs": [
    {
     "name": "stderr",
     "output_type": "stream",
     "text": [
      "[nltk_data] Downloading package stopwords to C:\\Users\\Mr Sagar\n",
      "[nltk_data]     Kumar\\AppData\\Roaming\\nltk_data...\n",
      "[nltk_data]   Package stopwords is already up-to-date!\n"
     ]
    },
    {
     "data": {
      "text/plain": [
       "True"
      ]
     },
     "execution_count": 39,
     "metadata": {},
     "output_type": "execute_result"
    }
   ],
   "source": [
    "import nltk\n",
    "nltk.download('stopwords') # Download for local systems"
   ]
  },
  {
   "cell_type": "code",
   "execution_count": 40,
   "metadata": {},
   "outputs": [
    {
     "data": {
      "text/plain": [
       "['a',\n",
       " 'about',\n",
       " 'above',\n",
       " 'after',\n",
       " 'again',\n",
       " 'against',\n",
       " 'ain',\n",
       " 'all',\n",
       " 'am',\n",
       " 'an',\n",
       " 'and',\n",
       " 'any',\n",
       " 'are',\n",
       " 'aren',\n",
       " \"aren't\",\n",
       " 'as',\n",
       " 'at',\n",
       " 'be',\n",
       " 'because',\n",
       " 'been',\n",
       " 'before',\n",
       " 'being',\n",
       " 'below',\n",
       " 'between',\n",
       " 'both',\n",
       " 'but',\n",
       " 'by',\n",
       " 'can',\n",
       " 'couldn',\n",
       " \"couldn't\",\n",
       " 'd',\n",
       " 'did',\n",
       " 'didn',\n",
       " \"didn't\",\n",
       " 'do',\n",
       " 'does',\n",
       " 'doesn',\n",
       " \"doesn't\",\n",
       " 'doing',\n",
       " 'don',\n",
       " \"don't\",\n",
       " 'down',\n",
       " 'during',\n",
       " 'each',\n",
       " 'few',\n",
       " 'for',\n",
       " 'from',\n",
       " 'further',\n",
       " 'had',\n",
       " 'hadn',\n",
       " \"hadn't\",\n",
       " 'has',\n",
       " 'hasn',\n",
       " \"hasn't\",\n",
       " 'have',\n",
       " 'haven',\n",
       " \"haven't\",\n",
       " 'having',\n",
       " 'he',\n",
       " \"he'd\",\n",
       " \"he'll\",\n",
       " 'her',\n",
       " 'here',\n",
       " 'hers',\n",
       " 'herself',\n",
       " \"he's\",\n",
       " 'him',\n",
       " 'himself',\n",
       " 'his',\n",
       " 'how',\n",
       " 'i',\n",
       " \"i'd\",\n",
       " 'if',\n",
       " \"i'll\",\n",
       " \"i'm\",\n",
       " 'in',\n",
       " 'into',\n",
       " 'is',\n",
       " 'isn',\n",
       " \"isn't\",\n",
       " 'it',\n",
       " \"it'd\",\n",
       " \"it'll\",\n",
       " \"it's\",\n",
       " 'its',\n",
       " 'itself',\n",
       " \"i've\",\n",
       " 'just',\n",
       " 'll',\n",
       " 'm',\n",
       " 'ma',\n",
       " 'me',\n",
       " 'mightn',\n",
       " \"mightn't\",\n",
       " 'more',\n",
       " 'most',\n",
       " 'mustn',\n",
       " \"mustn't\",\n",
       " 'my',\n",
       " 'myself',\n",
       " 'needn',\n",
       " \"needn't\",\n",
       " 'no',\n",
       " 'nor',\n",
       " 'not',\n",
       " 'now',\n",
       " 'o',\n",
       " 'of',\n",
       " 'off',\n",
       " 'on',\n",
       " 'once',\n",
       " 'only',\n",
       " 'or',\n",
       " 'other',\n",
       " 'our',\n",
       " 'ours',\n",
       " 'ourselves',\n",
       " 'out',\n",
       " 'over',\n",
       " 'own',\n",
       " 're',\n",
       " 's',\n",
       " 'same',\n",
       " 'shan',\n",
       " \"shan't\",\n",
       " 'she',\n",
       " \"she'd\",\n",
       " \"she'll\",\n",
       " \"she's\",\n",
       " 'should',\n",
       " 'shouldn',\n",
       " \"shouldn't\",\n",
       " \"should've\",\n",
       " 'so',\n",
       " 'some',\n",
       " 'such',\n",
       " 't',\n",
       " 'than',\n",
       " 'that',\n",
       " \"that'll\",\n",
       " 'the',\n",
       " 'their',\n",
       " 'theirs',\n",
       " 'them',\n",
       " 'themselves',\n",
       " 'then',\n",
       " 'there',\n",
       " 'these',\n",
       " 'they',\n",
       " \"they'd\",\n",
       " \"they'll\",\n",
       " \"they're\",\n",
       " \"they've\",\n",
       " 'this',\n",
       " 'those',\n",
       " 'through',\n",
       " 'to',\n",
       " 'too',\n",
       " 'under',\n",
       " 'until',\n",
       " 'up',\n",
       " 've',\n",
       " 'very',\n",
       " 'was',\n",
       " 'wasn',\n",
       " \"wasn't\",\n",
       " 'we',\n",
       " \"we'd\",\n",
       " \"we'll\",\n",
       " \"we're\",\n",
       " 'were',\n",
       " 'weren',\n",
       " \"weren't\",\n",
       " \"we've\",\n",
       " 'what',\n",
       " 'when',\n",
       " 'where',\n",
       " 'which',\n",
       " 'while',\n",
       " 'who',\n",
       " 'whom',\n",
       " 'why',\n",
       " 'will',\n",
       " 'with',\n",
       " 'won',\n",
       " \"won't\",\n",
       " 'wouldn',\n",
       " \"wouldn't\",\n",
       " 'y',\n",
       " 'you',\n",
       " \"you'd\",\n",
       " \"you'll\",\n",
       " 'your',\n",
       " \"you're\",\n",
       " 'yours',\n",
       " 'yourself',\n",
       " 'yourselves',\n",
       " \"you've\"]"
      ]
     },
     "execution_count": 40,
     "metadata": {},
     "output_type": "execute_result"
    }
   ],
   "source": [
    "from nltk.corpus import stopwords\n",
    "stopwords.words('english')"
   ]
  },
  {
   "cell_type": "code",
   "execution_count": 41,
   "metadata": {},
   "outputs": [],
   "source": [
    "def remove_stop_words(input_text):\n",
    "    new_text = []\n",
    "    for word in input_text.split():\n",
    "        if word in stopwords.words(\"english\"):\n",
    "            new_text.append(\"\")\n",
    "        else:\n",
    "            new_text.append(word)\n",
    "    return \" \".join(new_text)\n",
    "        "
   ]
  },
  {
   "cell_type": "code",
   "execution_count": 42,
   "metadata": {},
   "outputs": [
    {
     "data": {
      "text/plain": [
       "\"This   simple sentence  stop words removal   time  check it. Let's go\""
      ]
     },
     "execution_count": 42,
     "metadata": {},
     "output_type": "execute_result"
    }
   ],
   "source": [
    "remove_stop_words(\"This is a simple sentence for stop words removal and its time to check it. Let's go\")"
   ]
  },
  {
   "cell_type": "markdown",
   "metadata": {},
   "source": [
    "8. Emoji"
   ]
  },
  {
   "cell_type": "code",
   "execution_count": 43,
   "metadata": {},
   "outputs": [
    {
     "name": "stdout",
     "output_type": "stream",
     "text": [
      "Hello world! \n"
     ]
    }
   ],
   "source": [
    "# Remove emojis using regex for UNICODE characters\n",
    "import re\n",
    "\n",
    "def remove_emojis(text):\n",
    "    # Emoji regex pattern that matches most emojis\n",
    "    emoji_pattern = re.compile(\n",
    "        \"[\"  \n",
    "        \"\\U0001F600-\\U0001F64F\"  # Emoticons\n",
    "        \"\\U0001F300-\\U0001F5FF\"  # Symbols & Pictographs\n",
    "        \"\\U0001F680-\\U0001F6FF\"  # Transport & Map Symbols\n",
    "        \"\\U0001F700-\\U0001F77F\"  # Alchemical Symbols\n",
    "        \"\\U0001F780-\\U0001F7FF\"  # Geometric Shapes\n",
    "        \"\\U0001F800-\\U0001F8FF\"  # Supplemental Arrows-C\n",
    "        \"\\U0001F900-\\U0001F9FF\"  # Supplemental Symbols and Pictographs\n",
    "        \"\\U0001FA00-\\U0001FA6F\"  # Chess Symbols\n",
    "        \"\\U0001FA70-\\U0001FAFF\"  # Symbols & Pictographs Extended-A\n",
    "        \"\\U00002702-\\U000027B0\"  # Dingbats\n",
    "        \"\\U000024C2-\\U0001F251\"  # Enclosed Characters\n",
    "        \"]+\", flags=re.UNICODE)\n",
    "    return emoji_pattern.sub(r'', text)\n",
    "\n",
    "# Test the function\n",
    "text = \"Hello world! 😀😎👋\"\n",
    "cleaned_text = remove_emojis(text)\n",
    "print(cleaned_text)  # Output: \"Hello world! \"\n"
   ]
  },
  {
   "cell_type": "code",
   "execution_count": 44,
   "metadata": {},
   "outputs": [
    {
     "name": "stdout",
     "output_type": "stream",
     "text": [
      "Hello , How are you? \n"
     ]
    }
   ],
   "source": [
    "# Remove emojis using emoji library\n",
    "import emoji\n",
    "\n",
    "def remove_emojis(text):\n",
    "    return emoji.replace_emoji(text, replace='')\n",
    "\n",
    "# Test the function\n",
    "text = \"Hello 👋, How are you? 😄\"\n",
    "cleaned_text = remove_emojis(text)\n",
    "print(cleaned_text)  # Output: \"Hello , How are you? \"\n"
   ]
  },
  {
   "cell_type": "code",
   "execution_count": 45,
   "metadata": {},
   "outputs": [
    {
     "data": {
      "text/plain": [
       "'I love Python :red_heart::snake:'"
      ]
     },
     "execution_count": 45,
     "metadata": {},
     "output_type": "execute_result"
    }
   ],
   "source": [
    "# Replace emojis with their actual names using emoji library\n",
    "import emoji\n",
    "\n",
    "emoji.demojize(\"I love Python ❤️🐍\")\n"
   ]
  },
  {
   "cell_type": "markdown",
   "metadata": {},
   "source": [
    "9. Tokenization\n",
    "    - Process of breaking the text document into smaller parts.\n",
    "    - Ex: words, phrases, sentences, etc"
   ]
  },
  {
   "cell_type": "markdown",
   "metadata": {},
   "source": [
    "9.1 Using Split Function"
   ]
  },
  {
   "cell_type": "code",
   "execution_count": 46,
   "metadata": {},
   "outputs": [
    {
     "data": {
      "text/plain": [
       "[\"I'm\", 'learning', 'nlp.']"
      ]
     },
     "execution_count": 46,
     "metadata": {},
     "output_type": "execute_result"
    }
   ],
   "source": [
    "# word tokenization\n",
    "sent = \"I'm learning nlp.\"\n",
    "sent.split(' ')"
   ]
  },
  {
   "cell_type": "code",
   "execution_count": 47,
   "metadata": {},
   "outputs": [
    {
     "data": {
      "text/plain": [
       "[\"I'm going to new-york\", ' Would you like to join me?']"
      ]
     },
     "execution_count": 47,
     "metadata": {},
     "output_type": "execute_result"
    }
   ],
   "source": [
    "# sentence tokenization\n",
    "sent = \"I'm going to new-york. Would you like to join me?\"\n",
    "sent.split('.')"
   ]
  },
  {
   "cell_type": "code",
   "execution_count": 48,
   "metadata": {},
   "outputs": [
    {
     "data": {
      "text/plain": [
       "['I', 'am', 'an', 'AI', 'Engineer!']"
      ]
     },
     "execution_count": 48,
     "metadata": {},
     "output_type": "execute_result"
    }
   ],
   "source": [
    "# problems with split function\n",
    "sent = \"I am an AI Engineer!\"\n",
    "sent.split(\" \") # ! at the end"
   ]
  },
  {
   "cell_type": "code",
   "execution_count": 49,
   "metadata": {},
   "outputs": [
    {
     "data": {
      "text/plain": [
       "[\"Where do I think should go? I've 10 days holiday\"]"
      ]
     },
     "execution_count": 49,
     "metadata": {},
     "output_type": "execute_result"
    }
   ],
   "source": [
    "sent = \"Where do I think should go? I've 10 days holiday\"\n",
    "sent.split(\".\")"
   ]
  },
  {
   "cell_type": "markdown",
   "metadata": {},
   "source": [
    "9.2 Regular Expression"
   ]
  },
  {
   "cell_type": "code",
   "execution_count": 50,
   "metadata": {},
   "outputs": [
    {
     "name": "stderr",
     "output_type": "stream",
     "text": [
      "<>:3: SyntaxWarning: invalid escape sequence '\\w'\n",
      "<>:3: SyntaxWarning: invalid escape sequence '\\w'\n",
      "C:\\Users\\Mr Sagar Kumar\\AppData\\Local\\Temp\\ipykernel_4644\\370943968.py:3: SyntaxWarning: invalid escape sequence '\\w'\n",
      "  tokens = re.findall(\"[|\\w]+\",sent)\n"
     ]
    },
    {
     "data": {
      "text/plain": [
       "['I', 'am', 'an', 'AI', 'Engineer']"
      ]
     },
     "execution_count": 50,
     "metadata": {},
     "output_type": "execute_result"
    }
   ],
   "source": [
    "import re \n",
    "sent = \"I am an AI Engineer!\"\n",
    "tokens = re.findall(\"[|\\w]+\",sent)\n",
    "tokens"
   ]
  },
  {
   "cell_type": "code",
   "execution_count": 60,
   "metadata": {},
   "outputs": [
    {
     "data": {
      "text/plain": [
       "['Lorem Ipsum is simply dummy text of the printing and typesetting industry',\n",
       " \" Lorem Ipsum has been the industry's standard dummy text ever since the 1500s, when an unknown printer took a galley of type and scrambled it to make a type specimen book\",\n",
       " ' It has survived not only five centuries, but also the leap into electronic typesetting, remaining essentially unchanged',\n",
       " ' It was popularised in the 1960s with the release of Letraset sheets containing Lorem Ipsum passages, and more recently with desktop publishing software like Aldus PageMaker including versions of Lorem Ipsum',\n",
       " '']"
      ]
     },
     "execution_count": 60,
     "metadata": {},
     "output_type": "execute_result"
    }
   ],
   "source": [
    "lorem = \"Lorem Ipsum is simply dummy text of the printing and typesetting industry. Lorem Ipsum has been the industry's standard dummy text ever since the 1500s, when an unknown printer took a galley of type and scrambled it to make a type specimen book. It has survived not only five centuries, but also the leap into electronic typesetting, remaining essentially unchanged. It was popularised in the 1960s with the release of Letraset sheets containing Lorem Ipsum passages, and more recently with desktop publishing software like Aldus PageMaker including versions of Lorem Ipsum.\"\n",
    "sentences = re.compile('[.!?]').split(lorem)\n",
    "sentences"
   ]
  },
  {
   "cell_type": "markdown",
   "metadata": {},
   "source": [
    "9.3 NLTK"
   ]
  },
  {
   "cell_type": "code",
   "execution_count": 57,
   "metadata": {},
   "outputs": [
    {
     "name": "stderr",
     "output_type": "stream",
     "text": [
      "[nltk_data] Downloading package punkt_tab to C:\\Users\\Mr Sagar\n",
      "[nltk_data]     Kumar\\AppData\\Roaming\\nltk_data...\n",
      "[nltk_data]   Package punkt_tab is already up-to-date!\n"
     ]
    },
    {
     "data": {
      "text/plain": [
       "['I', \"'m\", 'going', 'to', 'USA', '!']"
      ]
     },
     "execution_count": 57,
     "metadata": {},
     "output_type": "execute_result"
    }
   ],
   "source": [
    "from nltk.tokenize import word_tokenize, sent_tokenize\n",
    "nltk.download('punkt_tab')\n",
    "\n",
    "sent1 = \"I'm going to USA!\"\n",
    "word_tokenize(sent1)"
   ]
  },
  {
   "cell_type": "code",
   "execution_count": 61,
   "metadata": {},
   "outputs": [
    {
     "data": {
      "text/plain": [
       "['Lorem Ipsum is simply dummy text of the printing and typesetting industry.',\n",
       " \"Lorem Ipsum has been the industry's standard dummy text ever since the 1500s, when an unknown printer took a galley of type and scrambled it to make a type specimen book.\",\n",
       " 'It has survived not only five centuries, but also the leap into electronic typesetting, remaining essentially unchanged.',\n",
       " 'It was popularised in the 1960s with the release of Letraset sheets containing Lorem Ipsum passages, and more recently with desktop publishing software like Aldus PageMaker including versions of Lorem Ipsum.']"
      ]
     },
     "execution_count": 61,
     "metadata": {},
     "output_type": "execute_result"
    }
   ],
   "source": [
    "sent_tokenize(lorem)"
   ]
  },
  {
   "cell_type": "code",
   "execution_count": 62,
   "metadata": {},
   "outputs": [],
   "source": [
    "sent2 = 'I have a Ph.D in A.I'\n",
    "sent3 = \"We're here to help! mail us at example@gmail.com\"\n",
    "sent4 = \"A 5km ride cost $10.50\"\n"
   ]
  },
  {
   "cell_type": "code",
   "execution_count": 64,
   "metadata": {},
   "outputs": [
    {
     "data": {
      "text/plain": [
       "['I', 'have', 'a', 'Ph.D', 'in', 'A.I']"
      ]
     },
     "execution_count": 64,
     "metadata": {},
     "output_type": "execute_result"
    }
   ],
   "source": [
    "word_tokenize(sent2) # perfect"
   ]
  },
  {
   "cell_type": "code",
   "execution_count": 66,
   "metadata": {},
   "outputs": [
    {
     "data": {
      "text/plain": [
       "['We',\n",
       " \"'re\",\n",
       " 'here',\n",
       " 'to',\n",
       " 'help',\n",
       " '!',\n",
       " 'mail',\n",
       " 'us',\n",
       " 'at',\n",
       " 'example',\n",
       " '@',\n",
       " 'gmail.com']"
      ]
     },
     "execution_count": 66,
     "metadata": {},
     "output_type": "execute_result"
    }
   ],
   "source": [
    "word_tokenize(sent3) # couldn't handle the email "
   ]
  },
  {
   "cell_type": "code",
   "execution_count": 68,
   "metadata": {},
   "outputs": [
    {
     "data": {
      "text/plain": [
       "['A', '5km', 'ride', 'cost', '$', '10.50']"
      ]
     },
     "execution_count": 68,
     "metadata": {},
     "output_type": "execute_result"
    }
   ],
   "source": [
    "word_tokenize(sent4) # couldn't handled the 5km but $10.50"
   ]
  },
  {
   "cell_type": "markdown",
   "metadata": {},
   "source": [
    "9.4 Spacy"
   ]
  },
  {
   "cell_type": "code",
   "execution_count": 70,
   "metadata": {},
   "outputs": [],
   "source": [
    "import spacy\n",
    "nlp = spacy.load('en_core_web_sm') # python -m spacy download en_core_web_sm"
   ]
  },
  {
   "cell_type": "code",
   "execution_count": 74,
   "metadata": {},
   "outputs": [],
   "source": [
    "doc1 = nlp(sent1)\n",
    "doc2 = nlp(sent2)\n",
    "doc3 = nlp(sent3)\n",
    "doc4 = nlp(sent4)\n",
    "docs = [doc1, doc2, doc3, doc4]"
   ]
  },
  {
   "cell_type": "code",
   "execution_count": 75,
   "metadata": {},
   "outputs": [
    {
     "data": {
      "text/plain": [
       "I'm going to USA!"
      ]
     },
     "execution_count": 75,
     "metadata": {},
     "output_type": "execute_result"
    }
   ],
   "source": [
    "\n",
    "doc1"
   ]
  },
  {
   "cell_type": "code",
   "execution_count": null,
   "metadata": {},
   "outputs": [
    {
     "name": "stdout",
     "output_type": "stream",
     "text": [
      "I\n",
      "'m\n",
      "going\n",
      "to\n",
      "USA\n",
      "!\n",
      "--------\n",
      "I\n",
      "have\n",
      "a\n",
      "Ph\n",
      ".\n",
      "D\n",
      "in\n",
      "A.I\n",
      "--------\n",
      "We\n",
      "'re\n",
      "here\n",
      "to\n",
      "help\n",
      "!\n",
      "mail\n",
      "us\n",
      "at\n",
      "example@gmail.com\n",
      "--------\n",
      "A\n",
      "5\n",
      "km\n",
      "ride\n",
      "cost\n",
      "$\n",
      "10.50\n",
      "--------\n"
     ]
    }
   ],
   "source": [
    "for doc in docs:\n",
    "    for tokens in doc:\n",
    "        print(tokens)\n",
    "    print(\"--------\")"
   ]
  },
  {
   "cell_type": "markdown",
   "metadata": {},
   "source": [
    "10. Stemming <br>\n",
    "Process of reducing inflection in words to their root forms such as mapping a group of words to the same stem even if the stem is not a valid word in the language."
   ]
  },
  {
   "cell_type": "code",
   "execution_count": 79,
   "metadata": {},
   "outputs": [],
   "source": [
    "from nltk.stem.porter import PorterStemmer"
   ]
  },
  {
   "cell_type": "code",
   "execution_count": 81,
   "metadata": {},
   "outputs": [],
   "source": [
    "def stem_words(text):\n",
    "    ps = PorterStemmer()\n",
    "    return \" \".join([ps.stem(word) for word in text.split()])"
   ]
  },
  {
   "cell_type": "code",
   "execution_count": 82,
   "metadata": {},
   "outputs": [
    {
     "data": {
      "text/plain": [
       "'talk talk talk talk'"
      ]
     },
     "execution_count": 82,
     "metadata": {},
     "output_type": "execute_result"
    }
   ],
   "source": [
    "sample = \"talk talks talking talked\"\n",
    "stem_words(sample)"
   ]
  },
  {
   "cell_type": "code",
   "execution_count": 83,
   "metadata": {},
   "outputs": [
    {
     "data": {
      "text/plain": [
       "'fuck fuck fuck fuck'"
      ]
     },
     "execution_count": 83,
     "metadata": {},
     "output_type": "execute_result"
    }
   ],
   "source": [
    "sample = \"fuck fucks fucking fucked\"\n",
    "stem_words(sample)"
   ]
  },
  {
   "cell_type": "markdown",
   "metadata": {},
   "source": [
    "11. Lemmatization <br>\n",
    "Lemmatization, unlike stemming, reduces the inflected words properly ensuring the root word belongs to the language. In lemmatization root word is called Lemma. A lemma (plural lemmas or lemmanta) is the canonical form, dictionary form, or citation form of a set of words."
   ]
  },
  {
   "cell_type": "code",
   "execution_count": 86,
   "metadata": {},
   "outputs": [
    {
     "name": "stderr",
     "output_type": "stream",
     "text": [
      "[nltk_data] Downloading package wordnet to C:\\Users\\Mr Sagar\n",
      "[nltk_data]     Kumar\\AppData\\Roaming\\nltk_data...\n"
     ]
    },
    {
     "data": {
      "text/plain": [
       "True"
      ]
     },
     "execution_count": 86,
     "metadata": {},
     "output_type": "execute_result"
    }
   ],
   "source": [
    "import nltk\n",
    "nltk.download('wordnet')"
   ]
  },
  {
   "cell_type": "code",
   "execution_count": 91,
   "metadata": {},
   "outputs": [
    {
     "name": "stdout",
     "output_type": "stream",
     "text": [
      "Word                Lemma               \n",
      "He                  He                  \n",
      "was                 wa                  \n",
      "running             running             \n",
      "and                 and                 \n",
      "eating              eating              \n",
      "at                  at                  \n",
      "the                 the                 \n",
      "same                same                \n",
      "time                time                \n",
      "He                  He                  \n",
      "has                 ha                  \n",
      "bad                 bad                 \n",
      "habit               habit               \n",
      "of                  of                  \n",
      "swimming            swimming            \n",
      "after               after               \n",
      "playing             playing             \n",
      "long                long                \n",
      "hours               hour                \n",
      "in                  in                  \n",
      "the                 the                 \n",
      "sun                 sun                 \n"
     ]
    }
   ],
   "source": [
    "\n",
    "from nltk.stem import WordNetLemmatizer\n",
    "wordnet_lemmatizer = WordNetLemmatizer()\n",
    "\n",
    "sentence = \"He was running and eating at the same time. He has bad habit of swimming after playing long hours in the sun.\"\n",
    "punctuations = \"?:!.,;\"\n",
    "sentence_words = nltk.word_tokenize(sentence)\n",
    "\n",
    "for word in sentence_words:\n",
    "    if word in punctuations:\n",
    "        sentence_words.remove(word)\n",
    "        \n",
    "sentence_words\n",
    "print(\"{0:20}{1:20}\".format(\"Word\",\"Lemma\"))\n",
    "for word in sentence_words:\n",
    "    print(\"{0:20}{1:20}\".format(word, wordnet_lemmatizer.lemmatize(word))) "
   ]
  },
  {
   "cell_type": "code",
   "execution_count": 92,
   "metadata": {},
   "outputs": [
    {
     "name": "stdout",
     "output_type": "stream",
     "text": [
      "He                  He                  \n",
      "was                 be                  \n",
      "running             run                 \n",
      "and                 and                 \n",
      "eating              eat                 \n",
      "at                  at                  \n",
      "the                 the                 \n",
      "same                same                \n",
      "time                time                \n",
      "He                  He                  \n",
      "has                 have                \n",
      "bad                 bad                 \n",
      "habit               habit               \n",
      "of                  of                  \n",
      "swimming            swim                \n",
      "after               after               \n",
      "playing             play                \n",
      "long                long                \n",
      "hours               hours               \n",
      "in                  in                  \n",
      "the                 the                 \n",
      "sun                 sun                 \n"
     ]
    }
   ],
   "source": [
    "for word in sentence_words:\n",
    "    print(\"{0:20}{1:20}\".format(word, wordnet_lemmatizer.lemmatize(word, pos='v'))) # POS/Parts of Speech Tagging Param"
   ]
  }
 ],
 "metadata": {
  "kernelspec": {
   "display_name": "Python 3.12.0 ('venv': venv)",
   "language": "python",
   "name": "python3"
  },
  "language_info": {
   "codemirror_mode": {
    "name": "ipython",
    "version": 3
   },
   "file_extension": ".py",
   "mimetype": "text/x-python",
   "name": "python",
   "nbconvert_exporter": "python",
   "pygments_lexer": "ipython3",
   "version": "3.12.0"
  },
  "orig_nbformat": 4,
  "vscode": {
   "interpreter": {
    "hash": "c3d1f06ec4fd0f335b4bb83d2424fac4fee372c73b45e1b31b74a87e30ed8db2"
   }
  }
 },
 "nbformat": 4,
 "nbformat_minor": 2
}
